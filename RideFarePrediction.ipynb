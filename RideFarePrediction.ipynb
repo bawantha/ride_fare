{
  "nbformat": 4,
  "nbformat_minor": 0,
  "metadata": {
    "colab": {
      "name": "RideFarePrediction",
      "provenance": [],
      "collapsed_sections": [],
      "toc_visible": true,
      "authorship_tag": "ABX9TyPN1gq/Q6X4VB5oDzpgG+hG",
      "include_colab_link": true
    },
    "kernelspec": {
      "name": "python3",
      "display_name": "Python 3"
    }
  },
  "cells": [
    {
      "cell_type": "markdown",
      "metadata": {
        "id": "view-in-github",
        "colab_type": "text"
      },
      "source": [
        "<a href=\"https://colab.research.google.com/github/bawantha/ride_fare/blob/master/RideFarePrediction.ipynb\" target=\"_parent\"><img src=\"https://colab.research.google.com/assets/colab-badge.svg\" alt=\"Open In Colab\"/></a>"
      ]
    },
    {
      "cell_type": "markdown",
      "metadata": {
        "id": "dvPAxw4Ll0KV",
        "colab_type": "text"
      },
      "source": [
        "## **Ride Fare Classification Project Competition**"
      ]
    },
    {
      "cell_type": "code",
      "metadata": {
        "id": "sRD0nagtl64g",
        "colab_type": "code",
        "colab": {
          "base_uri": "https://localhost:8080/",
          "height": 73
        },
        "outputId": "82dc7ed6-32bc-469e-f28a-4178e55a4204"
      },
      "source": [
        "import os #getting access to input files\n",
        "import pandas as pd # Importing pandas for performing EDA\n",
        "import numpy as np  # Importing numpy for Linear Algebric operations\n",
        "import matplotlib.pyplot as plt # Importing for Data Visualization\n",
        "import seaborn as sns # Importing for Data Visualization\n",
        "from collections import Counter \n",
        "from sklearn.tree import DecisionTreeRegressor\n",
        "from sklearn.ensemble import RandomForestRegressor\n",
        "from sklearn.ensemble import GradientBoostingRegressor\n",
        "from sklearn.linear_model import LinearRegression #ML algorithm\n",
        "from sklearn.model_selection import train_test_split #splitting dataset\n",
        "from sklearn.metrics import mean_squared_error\n",
        "from sklearn.metrics import r2_score\n",
        "from pprint import pprint\n",
        "from sklearn.model_selection import GridSearchCV    \n"
      ],
      "execution_count": 66,
      "outputs": [
        {
          "output_type": "stream",
          "text": [
            "/usr/local/lib/python3.6/dist-packages/statsmodels/tools/_testing.py:19: FutureWarning: pandas.util.testing is deprecated. Use the functions in the public API at pandas.testing instead.\n",
            "  import pandas.util.testing as tm\n"
          ],
          "name": "stderr"
        }
      ]
    },
    {
      "cell_type": "code",
      "metadata": {
        "id": "a0DuTiEwmFSU",
        "colab_type": "code",
        "outputId": "5022c7e4-f6ad-4cae-e4bb-71647e4d59a1",
        "colab": {
          "base_uri": "https://localhost:8080/",
          "height": 617
        }
      },
      "source": [
        "pd.read_csv('train.csv')"
      ],
      "execution_count": 23,
      "outputs": [
        {
          "output_type": "execute_result",
          "data": {
            "text/html": [
              "<div>\n",
              "<style scoped>\n",
              "    .dataframe tbody tr th:only-of-type {\n",
              "        vertical-align: middle;\n",
              "    }\n",
              "\n",
              "    .dataframe tbody tr th {\n",
              "        vertical-align: top;\n",
              "    }\n",
              "\n",
              "    .dataframe thead th {\n",
              "        text-align: right;\n",
              "    }\n",
              "</style>\n",
              "<table border=\"1\" class=\"dataframe\">\n",
              "  <thead>\n",
              "    <tr style=\"text-align: right;\">\n",
              "      <th></th>\n",
              "      <th>tripid</th>\n",
              "      <th>additional_fare</th>\n",
              "      <th>duration</th>\n",
              "      <th>meter_waiting</th>\n",
              "      <th>meter_waiting_fare</th>\n",
              "      <th>meter_waiting_till_pickup</th>\n",
              "      <th>pickup_time</th>\n",
              "      <th>drop_time</th>\n",
              "      <th>pick_lat</th>\n",
              "      <th>pick_lon</th>\n",
              "      <th>drop_lat</th>\n",
              "      <th>drop_lon</th>\n",
              "      <th>fare</th>\n",
              "      <th>label</th>\n",
              "    </tr>\n",
              "  </thead>\n",
              "  <tbody>\n",
              "    <tr>\n",
              "      <th>0</th>\n",
              "      <td>189123628</td>\n",
              "      <td>10.5</td>\n",
              "      <td>834.0</td>\n",
              "      <td>56.0</td>\n",
              "      <td>0.0000</td>\n",
              "      <td>64.0</td>\n",
              "      <td>11/1/2019 0:20</td>\n",
              "      <td>11/1/2019 0:34</td>\n",
              "      <td>6.86252</td>\n",
              "      <td>79.8993</td>\n",
              "      <td>6.90330</td>\n",
              "      <td>79.8783</td>\n",
              "      <td>270.32</td>\n",
              "      <td>correct</td>\n",
              "    </tr>\n",
              "    <tr>\n",
              "      <th>1</th>\n",
              "      <td>189125358</td>\n",
              "      <td>10.5</td>\n",
              "      <td>791.0</td>\n",
              "      <td>47.0</td>\n",
              "      <td>0.0000</td>\n",
              "      <td>134.0</td>\n",
              "      <td>11/1/2019 0:56</td>\n",
              "      <td>11/1/2019 1:09</td>\n",
              "      <td>6.88589</td>\n",
              "      <td>79.8984</td>\n",
              "      <td>6.91373</td>\n",
              "      <td>79.8923</td>\n",
              "      <td>197.85</td>\n",
              "      <td>correct</td>\n",
              "    </tr>\n",
              "    <tr>\n",
              "      <th>2</th>\n",
              "      <td>189125719</td>\n",
              "      <td>10.5</td>\n",
              "      <td>1087.0</td>\n",
              "      <td>80.0</td>\n",
              "      <td>0.0000</td>\n",
              "      <td>61.0</td>\n",
              "      <td>11/1/2019 1:08</td>\n",
              "      <td>11/1/2019 1:26</td>\n",
              "      <td>6.90839</td>\n",
              "      <td>79.8651</td>\n",
              "      <td>6.93669</td>\n",
              "      <td>79.9146</td>\n",
              "      <td>301.64</td>\n",
              "      <td>correct</td>\n",
              "    </tr>\n",
              "    <tr>\n",
              "      <th>3</th>\n",
              "      <td>189127273</td>\n",
              "      <td>10.5</td>\n",
              "      <td>598.0</td>\n",
              "      <td>271.0</td>\n",
              "      <td>15.6638</td>\n",
              "      <td>68.0</td>\n",
              "      <td>11/1/2019 2:27</td>\n",
              "      <td>11/1/2019 2:37</td>\n",
              "      <td>6.92570</td>\n",
              "      <td>79.8895</td>\n",
              "      <td>6.92748</td>\n",
              "      <td>79.8971</td>\n",
              "      <td>82.30</td>\n",
              "      <td>correct</td>\n",
              "    </tr>\n",
              "    <tr>\n",
              "      <th>4</th>\n",
              "      <td>189128020</td>\n",
              "      <td>NaN</td>\n",
              "      <td>NaN</td>\n",
              "      <td>NaN</td>\n",
              "      <td>NaN</td>\n",
              "      <td>NaN</td>\n",
              "      <td>11/1/2019 3:34</td>\n",
              "      <td>11/1/2019 3:51</td>\n",
              "      <td>6.87441</td>\n",
              "      <td>79.8615</td>\n",
              "      <td>6.84478</td>\n",
              "      <td>79.9290</td>\n",
              "      <td>358.39</td>\n",
              "      <td>correct</td>\n",
              "    </tr>\n",
              "    <tr>\n",
              "      <th>...</th>\n",
              "      <td>...</td>\n",
              "      <td>...</td>\n",
              "      <td>...</td>\n",
              "      <td>...</td>\n",
              "      <td>...</td>\n",
              "      <td>...</td>\n",
              "      <td>...</td>\n",
              "      <td>...</td>\n",
              "      <td>...</td>\n",
              "      <td>...</td>\n",
              "      <td>...</td>\n",
              "      <td>...</td>\n",
              "      <td>...</td>\n",
              "      <td>...</td>\n",
              "    </tr>\n",
              "    <tr>\n",
              "      <th>17171</th>\n",
              "      <td>213803193</td>\n",
              "      <td>10.5</td>\n",
              "      <td>838.0</td>\n",
              "      <td>93.0</td>\n",
              "      <td>5.4219</td>\n",
              "      <td>451.0</td>\n",
              "      <td>1/31/2020 22:07</td>\n",
              "      <td>1/31/2020 22:21</td>\n",
              "      <td>7.29073</td>\n",
              "      <td>80.6367</td>\n",
              "      <td>7.28891</td>\n",
              "      <td>80.6557</td>\n",
              "      <td>198.26</td>\n",
              "      <td>correct</td>\n",
              "    </tr>\n",
              "    <tr>\n",
              "      <th>17172</th>\n",
              "      <td>213812756</td>\n",
              "      <td>10.5</td>\n",
              "      <td>2151.0</td>\n",
              "      <td>428.0</td>\n",
              "      <td>0.0000</td>\n",
              "      <td>39.0</td>\n",
              "      <td>1/31/2020 23:07</td>\n",
              "      <td>1/31/2020 23:43</td>\n",
              "      <td>6.90569</td>\n",
              "      <td>79.8516</td>\n",
              "      <td>6.95089</td>\n",
              "      <td>79.9389</td>\n",
              "      <td>581.23</td>\n",
              "      <td>correct</td>\n",
              "    </tr>\n",
              "    <tr>\n",
              "      <th>17173</th>\n",
              "      <td>213813930</td>\n",
              "      <td>10.5</td>\n",
              "      <td>263.0</td>\n",
              "      <td>9.0</td>\n",
              "      <td>0.0000</td>\n",
              "      <td>110.0</td>\n",
              "      <td>1/31/2020 23:21</td>\n",
              "      <td>1/31/2020 23:25</td>\n",
              "      <td>7.09210</td>\n",
              "      <td>79.9000</td>\n",
              "      <td>7.10135</td>\n",
              "      <td>79.9017</td>\n",
              "      <td>76.20</td>\n",
              "      <td>correct</td>\n",
              "    </tr>\n",
              "    <tr>\n",
              "      <th>17174</th>\n",
              "      <td>213815405</td>\n",
              "      <td>10.5</td>\n",
              "      <td>858.0</td>\n",
              "      <td>115.0</td>\n",
              "      <td>0.0000</td>\n",
              "      <td>317.0</td>\n",
              "      <td>1/31/2020 23:39</td>\n",
              "      <td>1/31/2020 23:53</td>\n",
              "      <td>6.94540</td>\n",
              "      <td>79.8768</td>\n",
              "      <td>6.93574</td>\n",
              "      <td>79.9010</td>\n",
              "      <td>133.31</td>\n",
              "      <td>correct</td>\n",
              "    </tr>\n",
              "    <tr>\n",
              "      <th>17175</th>\n",
              "      <td>213817296</td>\n",
              "      <td>10.5</td>\n",
              "      <td>262.0</td>\n",
              "      <td>21.0</td>\n",
              "      <td>1.2243</td>\n",
              "      <td>23.0</td>\n",
              "      <td>1/31/2020 23:49</td>\n",
              "      <td>1/31/2020 23:53</td>\n",
              "      <td>6.90257</td>\n",
              "      <td>79.9557</td>\n",
              "      <td>6.90823</td>\n",
              "      <td>79.9374</td>\n",
              "      <td>98.57</td>\n",
              "      <td>correct</td>\n",
              "    </tr>\n",
              "  </tbody>\n",
              "</table>\n",
              "<p>17176 rows × 14 columns</p>\n",
              "</div>"
            ],
            "text/plain": [
              "          tripid  additional_fare  duration  ...  drop_lon    fare    label\n",
              "0      189123628             10.5     834.0  ...   79.8783  270.32  correct\n",
              "1      189125358             10.5     791.0  ...   79.8923  197.85  correct\n",
              "2      189125719             10.5    1087.0  ...   79.9146  301.64  correct\n",
              "3      189127273             10.5     598.0  ...   79.8971   82.30  correct\n",
              "4      189128020              NaN       NaN  ...   79.9290  358.39  correct\n",
              "...          ...              ...       ...  ...       ...     ...      ...\n",
              "17171  213803193             10.5     838.0  ...   80.6557  198.26  correct\n",
              "17172  213812756             10.5    2151.0  ...   79.9389  581.23  correct\n",
              "17173  213813930             10.5     263.0  ...   79.9017   76.20  correct\n",
              "17174  213815405             10.5     858.0  ...   79.9010  133.31  correct\n",
              "17175  213817296             10.5     262.0  ...   79.9374   98.57  correct\n",
              "\n",
              "[17176 rows x 14 columns]"
            ]
          },
          "metadata": {
            "tags": []
          },
          "execution_count": 23
        }
      ]
    },
    {
      "cell_type": "code",
      "metadata": {
        "id": "Nk_YOa7XmJKZ",
        "colab_type": "code",
        "colab": {}
      },
      "source": [
        "train_fare=pd.read_csv('train.csv')"
      ],
      "execution_count": 0,
      "outputs": []
    },
    {
      "cell_type": "code",
      "metadata": {
        "id": "3Hu0siHQmXMS",
        "colab_type": "code",
        "colab": {}
      },
      "source": [
        "test_fare=pd.read_csv('test.csv')"
      ],
      "execution_count": 0,
      "outputs": []
    },
    {
      "cell_type": "code",
      "metadata": {
        "id": "uRHMg1yPmiot",
        "colab_type": "code",
        "outputId": "715b12e8-bf74-4c0b-e406-b7f2dc95a875",
        "colab": {
          "base_uri": "https://localhost:8080/",
          "height": 313
        }
      },
      "source": [
        "test_fare.head()"
      ],
      "execution_count": 26,
      "outputs": [
        {
          "output_type": "execute_result",
          "data": {
            "text/html": [
              "<div>\n",
              "<style scoped>\n",
              "    .dataframe tbody tr th:only-of-type {\n",
              "        vertical-align: middle;\n",
              "    }\n",
              "\n",
              "    .dataframe tbody tr th {\n",
              "        vertical-align: top;\n",
              "    }\n",
              "\n",
              "    .dataframe thead th {\n",
              "        text-align: right;\n",
              "    }\n",
              "</style>\n",
              "<table border=\"1\" class=\"dataframe\">\n",
              "  <thead>\n",
              "    <tr style=\"text-align: right;\">\n",
              "      <th></th>\n",
              "      <th>tripid</th>\n",
              "      <th>additional_fare</th>\n",
              "      <th>duration</th>\n",
              "      <th>meter_waiting</th>\n",
              "      <th>meter_waiting_fare</th>\n",
              "      <th>meter_waiting_till_pickup</th>\n",
              "      <th>pickup_time</th>\n",
              "      <th>drop_time</th>\n",
              "      <th>pick_lat</th>\n",
              "      <th>pick_lon</th>\n",
              "      <th>drop_lat</th>\n",
              "      <th>drop_lon</th>\n",
              "      <th>fare</th>\n",
              "    </tr>\n",
              "  </thead>\n",
              "  <tbody>\n",
              "    <tr>\n",
              "      <th>0</th>\n",
              "      <td>213284604</td>\n",
              "      <td>10.5</td>\n",
              "      <td>924</td>\n",
              "      <td>42</td>\n",
              "      <td>2.4486</td>\n",
              "      <td>148</td>\n",
              "      <td>2/1/2020 0:38</td>\n",
              "      <td>2/1/2020 0:53</td>\n",
              "      <td>6.83454</td>\n",
              "      <td>79.8750</td>\n",
              "      <td>6.77490</td>\n",
              "      <td>79.8840</td>\n",
              "      <td>289.27</td>\n",
              "    </tr>\n",
              "    <tr>\n",
              "      <th>1</th>\n",
              "      <td>213286352</td>\n",
              "      <td>10.5</td>\n",
              "      <td>4249</td>\n",
              "      <td>20</td>\n",
              "      <td>0.0000</td>\n",
              "      <td>91</td>\n",
              "      <td>2/1/2020 1:02</td>\n",
              "      <td>2/1/2020 2:13</td>\n",
              "      <td>6.91168</td>\n",
              "      <td>79.8723</td>\n",
              "      <td>6.55091</td>\n",
              "      <td>79.9706</td>\n",
              "      <td>1912.70</td>\n",
              "    </tr>\n",
              "    <tr>\n",
              "      <th>2</th>\n",
              "      <td>213293973</td>\n",
              "      <td>10.5</td>\n",
              "      <td>1552</td>\n",
              "      <td>255</td>\n",
              "      <td>2.6588</td>\n",
              "      <td>23</td>\n",
              "      <td>2/1/2020 5:02</td>\n",
              "      <td>2/1/2020 5:28</td>\n",
              "      <td>6.92145</td>\n",
              "      <td>79.8478</td>\n",
              "      <td>6.90539</td>\n",
              "      <td>79.8989</td>\n",
              "      <td>394.00</td>\n",
              "    </tr>\n",
              "    <tr>\n",
              "      <th>3</th>\n",
              "      <td>213294622</td>\n",
              "      <td>10.5</td>\n",
              "      <td>462</td>\n",
              "      <td>16</td>\n",
              "      <td>0.0000</td>\n",
              "      <td>198</td>\n",
              "      <td>2/1/2020 5:30</td>\n",
              "      <td>2/1/2020 5:38</td>\n",
              "      <td>6.77433</td>\n",
              "      <td>79.9416</td>\n",
              "      <td>6.80401</td>\n",
              "      <td>79.9407</td>\n",
              "      <td>154.32</td>\n",
              "    </tr>\n",
              "    <tr>\n",
              "      <th>4</th>\n",
              "      <td>213298687</td>\n",
              "      <td>10.5</td>\n",
              "      <td>814</td>\n",
              "      <td>392</td>\n",
              "      <td>12.3692</td>\n",
              "      <td>69</td>\n",
              "      <td>2/1/2020 7:00</td>\n",
              "      <td>2/1/2020 7:14</td>\n",
              "      <td>6.97968</td>\n",
              "      <td>79.9130</td>\n",
              "      <td>6.98875</td>\n",
              "      <td>79.8914</td>\n",
              "      <td>147.47</td>\n",
              "    </tr>\n",
              "  </tbody>\n",
              "</table>\n",
              "</div>"
            ],
            "text/plain": [
              "      tripid  additional_fare  duration  ...  drop_lat  drop_lon     fare\n",
              "0  213284604             10.5       924  ...   6.77490   79.8840   289.27\n",
              "1  213286352             10.5      4249  ...   6.55091   79.9706  1912.70\n",
              "2  213293973             10.5      1552  ...   6.90539   79.8989   394.00\n",
              "3  213294622             10.5       462  ...   6.80401   79.9407   154.32\n",
              "4  213298687             10.5       814  ...   6.98875   79.8914   147.47\n",
              "\n",
              "[5 rows x 13 columns]"
            ]
          },
          "metadata": {
            "tags": []
          },
          "execution_count": 26
        }
      ]
    },
    {
      "cell_type": "code",
      "metadata": {
        "id": "2vdMQ7kJmlDn",
        "colab_type": "code",
        "outputId": "cde810ad-28b3-4c9a-f269-0c476ee2fce2",
        "colab": {
          "base_uri": "https://localhost:8080/",
          "height": 399
        }
      },
      "source": [
        "train_fare.info()"
      ],
      "execution_count": 27,
      "outputs": [
        {
          "output_type": "stream",
          "text": [
            "<class 'pandas.core.frame.DataFrame'>\n",
            "RangeIndex: 17176 entries, 0 to 17175\n",
            "Data columns (total 14 columns):\n",
            " #   Column                     Non-Null Count  Dtype  \n",
            "---  ------                     --------------  -----  \n",
            " 0   tripid                     17176 non-null  int64  \n",
            " 1   additional_fare            16974 non-null  float64\n",
            " 2   duration                   16974 non-null  float64\n",
            " 3   meter_waiting              16974 non-null  float64\n",
            " 4   meter_waiting_fare         16974 non-null  float64\n",
            " 5   meter_waiting_till_pickup  16974 non-null  float64\n",
            " 6   pickup_time                17176 non-null  object \n",
            " 7   drop_time                  17176 non-null  object \n",
            " 8   pick_lat                   17176 non-null  float64\n",
            " 9   pick_lon                   17176 non-null  float64\n",
            " 10  drop_lat                   17176 non-null  float64\n",
            " 11  drop_lon                   17176 non-null  float64\n",
            " 12  fare                       17039 non-null  float64\n",
            " 13  label                      17176 non-null  object \n",
            "dtypes: float64(10), int64(1), object(3)\n",
            "memory usage: 1.8+ MB\n"
          ],
          "name": "stdout"
        }
      ]
    },
    {
      "cell_type": "code",
      "metadata": {
        "id": "ugBEJRysmpV7",
        "colab_type": "code",
        "outputId": "573b8626-0582-401d-b4da-68c3b66fa8a2",
        "colab": {
          "base_uri": "https://localhost:8080/",
          "height": 320
        }
      },
      "source": [
        "train_fare.describe()"
      ],
      "execution_count": 28,
      "outputs": [
        {
          "output_type": "execute_result",
          "data": {
            "text/html": [
              "<div>\n",
              "<style scoped>\n",
              "    .dataframe tbody tr th:only-of-type {\n",
              "        vertical-align: middle;\n",
              "    }\n",
              "\n",
              "    .dataframe tbody tr th {\n",
              "        vertical-align: top;\n",
              "    }\n",
              "\n",
              "    .dataframe thead th {\n",
              "        text-align: right;\n",
              "    }\n",
              "</style>\n",
              "<table border=\"1\" class=\"dataframe\">\n",
              "  <thead>\n",
              "    <tr style=\"text-align: right;\">\n",
              "      <th></th>\n",
              "      <th>tripid</th>\n",
              "      <th>additional_fare</th>\n",
              "      <th>duration</th>\n",
              "      <th>meter_waiting</th>\n",
              "      <th>meter_waiting_fare</th>\n",
              "      <th>meter_waiting_till_pickup</th>\n",
              "      <th>pick_lat</th>\n",
              "      <th>pick_lon</th>\n",
              "      <th>drop_lat</th>\n",
              "      <th>drop_lon</th>\n",
              "      <th>fare</th>\n",
              "    </tr>\n",
              "  </thead>\n",
              "  <tbody>\n",
              "    <tr>\n",
              "      <th>count</th>\n",
              "      <td>1.717600e+04</td>\n",
              "      <td>16974.000000</td>\n",
              "      <td>16974.000000</td>\n",
              "      <td>16974.000000</td>\n",
              "      <td>16974.000000</td>\n",
              "      <td>16974.000000</td>\n",
              "      <td>17176.000000</td>\n",
              "      <td>17176.000000</td>\n",
              "      <td>17176.000000</td>\n",
              "      <td>17176.000000</td>\n",
              "      <td>17039.000000</td>\n",
              "    </tr>\n",
              "    <tr>\n",
              "      <th>mean</th>\n",
              "      <td>2.014549e+08</td>\n",
              "      <td>13.719651</td>\n",
              "      <td>1702.858077</td>\n",
              "      <td>629.074231</td>\n",
              "      <td>32.057666</td>\n",
              "      <td>112.466832</td>\n",
              "      <td>6.965499</td>\n",
              "      <td>79.998389</td>\n",
              "      <td>6.968587</td>\n",
              "      <td>79.997534</td>\n",
              "      <td>312.655466</td>\n",
              "    </tr>\n",
              "    <tr>\n",
              "      <th>std</th>\n",
              "      <td>7.456830e+06</td>\n",
              "      <td>98.975052</td>\n",
              "      <td>8120.160818</td>\n",
              "      <td>8063.260669</td>\n",
              "      <td>465.483573</td>\n",
              "      <td>442.054812</td>\n",
              "      <td>0.210760</td>\n",
              "      <td>0.243384</td>\n",
              "      <td>0.378669</td>\n",
              "      <td>0.359648</td>\n",
              "      <td>605.300565</td>\n",
              "    </tr>\n",
              "    <tr>\n",
              "      <th>min</th>\n",
              "      <td>1.891236e+08</td>\n",
              "      <td>0.000000</td>\n",
              "      <td>0.000000</td>\n",
              "      <td>0.000000</td>\n",
              "      <td>0.000000</td>\n",
              "      <td>0.000000</td>\n",
              "      <td>5.937600</td>\n",
              "      <td>79.819100</td>\n",
              "      <td>5.941860</td>\n",
              "      <td>45.307700</td>\n",
              "      <td>0.000000</td>\n",
              "    </tr>\n",
              "    <tr>\n",
              "      <th>25%</th>\n",
              "      <td>1.947619e+08</td>\n",
              "      <td>10.500000</td>\n",
              "      <td>548.000000</td>\n",
              "      <td>33.000000</td>\n",
              "      <td>0.000000</td>\n",
              "      <td>26.000000</td>\n",
              "      <td>6.865077</td>\n",
              "      <td>79.870400</td>\n",
              "      <td>6.865625</td>\n",
              "      <td>79.870100</td>\n",
              "      <td>125.515000</td>\n",
              "    </tr>\n",
              "    <tr>\n",
              "      <th>50%</th>\n",
              "      <td>2.013582e+08</td>\n",
              "      <td>10.500000</td>\n",
              "      <td>1009.500000</td>\n",
              "      <td>123.000000</td>\n",
              "      <td>0.116600</td>\n",
              "      <td>73.000000</td>\n",
              "      <td>6.914105</td>\n",
              "      <td>79.898600</td>\n",
              "      <td>6.916160</td>\n",
              "      <td>79.899100</td>\n",
              "      <td>211.180000</td>\n",
              "    </tr>\n",
              "    <tr>\n",
              "      <th>75%</th>\n",
              "      <td>2.083081e+08</td>\n",
              "      <td>10.500000</td>\n",
              "      <td>1803.000000</td>\n",
              "      <td>351.000000</td>\n",
              "      <td>14.341800</td>\n",
              "      <td>144.000000</td>\n",
              "      <td>7.043057</td>\n",
              "      <td>79.956600</td>\n",
              "      <td>7.047195</td>\n",
              "      <td>79.960225</td>\n",
              "      <td>366.465000</td>\n",
              "    </tr>\n",
              "    <tr>\n",
              "      <th>max</th>\n",
              "      <td>2.138173e+08</td>\n",
              "      <td>12795.030000</td>\n",
              "      <td>453872.000000</td>\n",
              "      <td>453650.000000</td>\n",
              "      <td>26198.601400</td>\n",
              "      <td>51288.000000</td>\n",
              "      <td>8.051010</td>\n",
              "      <td>81.009600</td>\n",
              "      <td>48.132000</td>\n",
              "      <td>81.009700</td>\n",
              "      <td>26945.990000</td>\n",
              "    </tr>\n",
              "  </tbody>\n",
              "</table>\n",
              "</div>"
            ],
            "text/plain": [
              "             tripid  additional_fare  ...      drop_lon          fare\n",
              "count  1.717600e+04     16974.000000  ...  17176.000000  17039.000000\n",
              "mean   2.014549e+08        13.719651  ...     79.997534    312.655466\n",
              "std    7.456830e+06        98.975052  ...      0.359648    605.300565\n",
              "min    1.891236e+08         0.000000  ...     45.307700      0.000000\n",
              "25%    1.947619e+08        10.500000  ...     79.870100    125.515000\n",
              "50%    2.013582e+08        10.500000  ...     79.899100    211.180000\n",
              "75%    2.083081e+08        10.500000  ...     79.960225    366.465000\n",
              "max    2.138173e+08     12795.030000  ...     81.009700  26945.990000\n",
              "\n",
              "[8 rows x 11 columns]"
            ]
          },
          "metadata": {
            "tags": []
          },
          "execution_count": 28
        }
      ]
    },
    {
      "cell_type": "code",
      "metadata": {
        "id": "3tSDTD6izNnc",
        "colab_type": "code",
        "outputId": "0c9ed5f0-e5c9-485d-d07a-1274b3d46e92",
        "colab": {
          "base_uri": "https://localhost:8080/",
          "height": 847
        }
      },
      "source": [
        "\n",
        "train_fare.hist(bins=100, figsize=(20,15))\n",
        "train_fare.head()\n",
        "plt.show()\n"
      ],
      "execution_count": 29,
      "outputs": [
        {
          "output_type": "display_data",
          "data": {
            "image/png": "[encoded data removed]",
            "text/plain": [
              "<Figure size 1440x1080 with 12 Axes>"
            ]
          },
          "metadata": {
            "tags": [],
            "needs_background": "light"
          }
        }
      ]
    },
    {
      "cell_type": "code",
      "metadata": {
        "id": "qmXzKx6rz3-a",
        "colab_type": "code",
        "outputId": "97f0fe24-7009-4651-f6e5-44febf0fe66c",
        "colab": {
          "base_uri": "https://localhost:8080/",
          "height": 313
        }
      },
      "source": [
        "train_fare.head()"
      ],
      "execution_count": 30,
      "outputs": [
        {
          "output_type": "execute_result",
          "data": {
            "text/html": [
              "<div>\n",
              "<style scoped>\n",
              "    .dataframe tbody tr th:only-of-type {\n",
              "        vertical-align: middle;\n",
              "    }\n",
              "\n",
              "    .dataframe tbody tr th {\n",
              "        vertical-align: top;\n",
              "    }\n",
              "\n",
              "    .dataframe thead th {\n",
              "        text-align: right;\n",
              "    }\n",
              "</style>\n",
              "<table border=\"1\" class=\"dataframe\">\n",
              "  <thead>\n",
              "    <tr style=\"text-align: right;\">\n",
              "      <th></th>\n",
              "      <th>tripid</th>\n",
              "      <th>additional_fare</th>\n",
              "      <th>duration</th>\n",
              "      <th>meter_waiting</th>\n",
              "      <th>meter_waiting_fare</th>\n",
              "      <th>meter_waiting_till_pickup</th>\n",
              "      <th>pickup_time</th>\n",
              "      <th>drop_time</th>\n",
              "      <th>pick_lat</th>\n",
              "      <th>pick_lon</th>\n",
              "      <th>drop_lat</th>\n",
              "      <th>drop_lon</th>\n",
              "      <th>fare</th>\n",
              "      <th>label</th>\n",
              "    </tr>\n",
              "  </thead>\n",
              "  <tbody>\n",
              "    <tr>\n",
              "      <th>0</th>\n",
              "      <td>189123628</td>\n",
              "      <td>10.5</td>\n",
              "      <td>834.0</td>\n",
              "      <td>56.0</td>\n",
              "      <td>0.0000</td>\n",
              "      <td>64.0</td>\n",
              "      <td>11/1/2019 0:20</td>\n",
              "      <td>11/1/2019 0:34</td>\n",
              "      <td>6.86252</td>\n",
              "      <td>79.8993</td>\n",
              "      <td>6.90330</td>\n",
              "      <td>79.8783</td>\n",
              "      <td>270.32</td>\n",
              "      <td>correct</td>\n",
              "    </tr>\n",
              "    <tr>\n",
              "      <th>1</th>\n",
              "      <td>189125358</td>\n",
              "      <td>10.5</td>\n",
              "      <td>791.0</td>\n",
              "      <td>47.0</td>\n",
              "      <td>0.0000</td>\n",
              "      <td>134.0</td>\n",
              "      <td>11/1/2019 0:56</td>\n",
              "      <td>11/1/2019 1:09</td>\n",
              "      <td>6.88589</td>\n",
              "      <td>79.8984</td>\n",
              "      <td>6.91373</td>\n",
              "      <td>79.8923</td>\n",
              "      <td>197.85</td>\n",
              "      <td>correct</td>\n",
              "    </tr>\n",
              "    <tr>\n",
              "      <th>2</th>\n",
              "      <td>189125719</td>\n",
              "      <td>10.5</td>\n",
              "      <td>1087.0</td>\n",
              "      <td>80.0</td>\n",
              "      <td>0.0000</td>\n",
              "      <td>61.0</td>\n",
              "      <td>11/1/2019 1:08</td>\n",
              "      <td>11/1/2019 1:26</td>\n",
              "      <td>6.90839</td>\n",
              "      <td>79.8651</td>\n",
              "      <td>6.93669</td>\n",
              "      <td>79.9146</td>\n",
              "      <td>301.64</td>\n",
              "      <td>correct</td>\n",
              "    </tr>\n",
              "    <tr>\n",
              "      <th>3</th>\n",
              "      <td>189127273</td>\n",
              "      <td>10.5</td>\n",
              "      <td>598.0</td>\n",
              "      <td>271.0</td>\n",
              "      <td>15.6638</td>\n",
              "      <td>68.0</td>\n",
              "      <td>11/1/2019 2:27</td>\n",
              "      <td>11/1/2019 2:37</td>\n",
              "      <td>6.92570</td>\n",
              "      <td>79.8895</td>\n",
              "      <td>6.92748</td>\n",
              "      <td>79.8971</td>\n",
              "      <td>82.30</td>\n",
              "      <td>correct</td>\n",
              "    </tr>\n",
              "    <tr>\n",
              "      <th>4</th>\n",
              "      <td>189128020</td>\n",
              "      <td>NaN</td>\n",
              "      <td>NaN</td>\n",
              "      <td>NaN</td>\n",
              "      <td>NaN</td>\n",
              "      <td>NaN</td>\n",
              "      <td>11/1/2019 3:34</td>\n",
              "      <td>11/1/2019 3:51</td>\n",
              "      <td>6.87441</td>\n",
              "      <td>79.8615</td>\n",
              "      <td>6.84478</td>\n",
              "      <td>79.9290</td>\n",
              "      <td>358.39</td>\n",
              "      <td>correct</td>\n",
              "    </tr>\n",
              "  </tbody>\n",
              "</table>\n",
              "</div>"
            ],
            "text/plain": [
              "      tripid  additional_fare  duration  ...  drop_lon    fare    label\n",
              "0  189123628             10.5     834.0  ...   79.8783  270.32  correct\n",
              "1  189125358             10.5     791.0  ...   79.8923  197.85  correct\n",
              "2  189125719             10.5    1087.0  ...   79.9146  301.64  correct\n",
              "3  189127273             10.5     598.0  ...   79.8971   82.30  correct\n",
              "4  189128020              NaN       NaN  ...   79.9290  358.39  correct\n",
              "\n",
              "[5 rows x 14 columns]"
            ]
          },
          "metadata": {
            "tags": []
          },
          "execution_count": 30
        }
      ]
    },
    {
      "cell_type": "code",
      "metadata": {
        "id": "_fBI9tR90WMB",
        "colab_type": "code",
        "colab": {}
      },
      "source": [
        "from sklearn import linear_model"
      ],
      "execution_count": 0,
      "outputs": []
    },
    {
      "cell_type": "code",
      "metadata": {
        "id": "qxV_WmcH8D4e",
        "colab_type": "code",
        "outputId": "08ea60cb-24c7-486e-cd26-2eefb5226f17",
        "colab": {
          "base_uri": "https://localhost:8080/",
          "height": 35
        }
      },
      "source": [
        "train_fare.shape"
      ],
      "execution_count": 32,
      "outputs": [
        {
          "output_type": "execute_result",
          "data": {
            "text/plain": [
              "(17176, 14)"
            ]
          },
          "metadata": {
            "tags": []
          },
          "execution_count": 32
        }
      ]
    },
    {
      "cell_type": "code",
      "metadata": {
        "id": "0DTcFIo68NxI",
        "colab_type": "code",
        "outputId": "3310f574-2859-422c-9736-cd05d6db2a28",
        "colab": {
          "base_uri": "https://localhost:8080/",
          "height": 313
        }
      },
      "source": [
        "train_fare.head()"
      ],
      "execution_count": 33,
      "outputs": [
        {
          "output_type": "execute_result",
          "data": {
            "text/html": [
              "<div>\n",
              "<style scoped>\n",
              "    .dataframe tbody tr th:only-of-type {\n",
              "        vertical-align: middle;\n",
              "    }\n",
              "\n",
              "    .dataframe tbody tr th {\n",
              "        vertical-align: top;\n",
              "    }\n",
              "\n",
              "    .dataframe thead th {\n",
              "        text-align: right;\n",
              "    }\n",
              "</style>\n",
              "<table border=\"1\" class=\"dataframe\">\n",
              "  <thead>\n",
              "    <tr style=\"text-align: right;\">\n",
              "      <th></th>\n",
              "      <th>tripid</th>\n",
              "      <th>additional_fare</th>\n",
              "      <th>duration</th>\n",
              "      <th>meter_waiting</th>\n",
              "      <th>meter_waiting_fare</th>\n",
              "      <th>meter_waiting_till_pickup</th>\n",
              "      <th>pickup_time</th>\n",
              "      <th>drop_time</th>\n",
              "      <th>pick_lat</th>\n",
              "      <th>pick_lon</th>\n",
              "      <th>drop_lat</th>\n",
              "      <th>drop_lon</th>\n",
              "      <th>fare</th>\n",
              "      <th>label</th>\n",
              "    </tr>\n",
              "  </thead>\n",
              "  <tbody>\n",
              "    <tr>\n",
              "      <th>0</th>\n",
              "      <td>189123628</td>\n",
              "      <td>10.5</td>\n",
              "      <td>834.0</td>\n",
              "      <td>56.0</td>\n",
              "      <td>0.0000</td>\n",
              "      <td>64.0</td>\n",
              "      <td>11/1/2019 0:20</td>\n",
              "      <td>11/1/2019 0:34</td>\n",
              "      <td>6.86252</td>\n",
              "      <td>79.8993</td>\n",
              "      <td>6.90330</td>\n",
              "      <td>79.8783</td>\n",
              "      <td>270.32</td>\n",
              "      <td>correct</td>\n",
              "    </tr>\n",
              "    <tr>\n",
              "      <th>1</th>\n",
              "      <td>189125358</td>\n",
              "      <td>10.5</td>\n",
              "      <td>791.0</td>\n",
              "      <td>47.0</td>\n",
              "      <td>0.0000</td>\n",
              "      <td>134.0</td>\n",
              "      <td>11/1/2019 0:56</td>\n",
              "      <td>11/1/2019 1:09</td>\n",
              "      <td>6.88589</td>\n",
              "      <td>79.8984</td>\n",
              "      <td>6.91373</td>\n",
              "      <td>79.8923</td>\n",
              "      <td>197.85</td>\n",
              "      <td>correct</td>\n",
              "    </tr>\n",
              "    <tr>\n",
              "      <th>2</th>\n",
              "      <td>189125719</td>\n",
              "      <td>10.5</td>\n",
              "      <td>1087.0</td>\n",
              "      <td>80.0</td>\n",
              "      <td>0.0000</td>\n",
              "      <td>61.0</td>\n",
              "      <td>11/1/2019 1:08</td>\n",
              "      <td>11/1/2019 1:26</td>\n",
              "      <td>6.90839</td>\n",
              "      <td>79.8651</td>\n",
              "      <td>6.93669</td>\n",
              "      <td>79.9146</td>\n",
              "      <td>301.64</td>\n",
              "      <td>correct</td>\n",
              "    </tr>\n",
              "    <tr>\n",
              "      <th>3</th>\n",
              "      <td>189127273</td>\n",
              "      <td>10.5</td>\n",
              "      <td>598.0</td>\n",
              "      <td>271.0</td>\n",
              "      <td>15.6638</td>\n",
              "      <td>68.0</td>\n",
              "      <td>11/1/2019 2:27</td>\n",
              "      <td>11/1/2019 2:37</td>\n",
              "      <td>6.92570</td>\n",
              "      <td>79.8895</td>\n",
              "      <td>6.92748</td>\n",
              "      <td>79.8971</td>\n",
              "      <td>82.30</td>\n",
              "      <td>correct</td>\n",
              "    </tr>\n",
              "    <tr>\n",
              "      <th>4</th>\n",
              "      <td>189128020</td>\n",
              "      <td>NaN</td>\n",
              "      <td>NaN</td>\n",
              "      <td>NaN</td>\n",
              "      <td>NaN</td>\n",
              "      <td>NaN</td>\n",
              "      <td>11/1/2019 3:34</td>\n",
              "      <td>11/1/2019 3:51</td>\n",
              "      <td>6.87441</td>\n",
              "      <td>79.8615</td>\n",
              "      <td>6.84478</td>\n",
              "      <td>79.9290</td>\n",
              "      <td>358.39</td>\n",
              "      <td>correct</td>\n",
              "    </tr>\n",
              "  </tbody>\n",
              "</table>\n",
              "</div>"
            ],
            "text/plain": [
              "      tripid  additional_fare  duration  ...  drop_lon    fare    label\n",
              "0  189123628             10.5     834.0  ...   79.8783  270.32  correct\n",
              "1  189125358             10.5     791.0  ...   79.8923  197.85  correct\n",
              "2  189125719             10.5    1087.0  ...   79.9146  301.64  correct\n",
              "3  189127273             10.5     598.0  ...   79.8971   82.30  correct\n",
              "4  189128020              NaN       NaN  ...   79.9290  358.39  correct\n",
              "\n",
              "[5 rows x 14 columns]"
            ]
          },
          "metadata": {
            "tags": []
          },
          "execution_count": 33
        }
      ]
    },
    {
      "cell_type": "code",
      "metadata": {
        "id": "dFzCc9wI8mrH",
        "colab_type": "code",
        "outputId": "a9ca2274-53e5-4552-91e9-991f5b3b47ad",
        "colab": {
          "base_uri": "https://localhost:8080/",
          "height": 290
        }
      },
      "source": [
        "train_fare.dtypes"
      ],
      "execution_count": 34,
      "outputs": [
        {
          "output_type": "execute_result",
          "data": {
            "text/plain": [
              "tripid                         int64\n",
              "additional_fare              float64\n",
              "duration                     float64\n",
              "meter_waiting                float64\n",
              "meter_waiting_fare           float64\n",
              "meter_waiting_till_pickup    float64\n",
              "pickup_time                   object\n",
              "drop_time                     object\n",
              "pick_lat                     float64\n",
              "pick_lon                     float64\n",
              "drop_lat                     float64\n",
              "drop_lon                     float64\n",
              "fare                         float64\n",
              "label                         object\n",
              "dtype: object"
            ]
          },
          "metadata": {
            "tags": []
          },
          "execution_count": 34
        }
      ]
    },
    {
      "cell_type": "code",
      "metadata": {
        "id": "-mlGCeG8MOAj",
        "colab_type": "code",
        "outputId": "277faab6-bfe5-4869-a171-26eeb789dccb",
        "colab": {
          "base_uri": "https://localhost:8080/",
          "height": 320
        }
      },
      "source": [
        "train_fare.describe()"
      ],
      "execution_count": 35,
      "outputs": [
        {
          "output_type": "execute_result",
          "data": {
            "text/html": [
              "<div>\n",
              "<style scoped>\n",
              "    .dataframe tbody tr th:only-of-type {\n",
              "        vertical-align: middle;\n",
              "    }\n",
              "\n",
              "    .dataframe tbody tr th {\n",
              "        vertical-align: top;\n",
              "    }\n",
              "\n",
              "    .dataframe thead th {\n",
              "        text-align: right;\n",
              "    }\n",
              "</style>\n",
              "<table border=\"1\" class=\"dataframe\">\n",
              "  <thead>\n",
              "    <tr style=\"text-align: right;\">\n",
              "      <th></th>\n",
              "      <th>tripid</th>\n",
              "      <th>additional_fare</th>\n",
              "      <th>duration</th>\n",
              "      <th>meter_waiting</th>\n",
              "      <th>meter_waiting_fare</th>\n",
              "      <th>meter_waiting_till_pickup</th>\n",
              "      <th>pick_lat</th>\n",
              "      <th>pick_lon</th>\n",
              "      <th>drop_lat</th>\n",
              "      <th>drop_lon</th>\n",
              "      <th>fare</th>\n",
              "    </tr>\n",
              "  </thead>\n",
              "  <tbody>\n",
              "    <tr>\n",
              "      <th>count</th>\n",
              "      <td>1.717600e+04</td>\n",
              "      <td>16974.000000</td>\n",
              "      <td>16974.000000</td>\n",
              "      <td>16974.000000</td>\n",
              "      <td>16974.000000</td>\n",
              "      <td>16974.000000</td>\n",
              "      <td>17176.000000</td>\n",
              "      <td>17176.000000</td>\n",
              "      <td>17176.000000</td>\n",
              "      <td>17176.000000</td>\n",
              "      <td>17039.000000</td>\n",
              "    </tr>\n",
              "    <tr>\n",
              "      <th>mean</th>\n",
              "      <td>2.014549e+08</td>\n",
              "      <td>13.719651</td>\n",
              "      <td>1702.858077</td>\n",
              "      <td>629.074231</td>\n",
              "      <td>32.057666</td>\n",
              "      <td>112.466832</td>\n",
              "      <td>6.965499</td>\n",
              "      <td>79.998389</td>\n",
              "      <td>6.968587</td>\n",
              "      <td>79.997534</td>\n",
              "      <td>312.655466</td>\n",
              "    </tr>\n",
              "    <tr>\n",
              "      <th>std</th>\n",
              "      <td>7.456830e+06</td>\n",
              "      <td>98.975052</td>\n",
              "      <td>8120.160818</td>\n",
              "      <td>8063.260669</td>\n",
              "      <td>465.483573</td>\n",
              "      <td>442.054812</td>\n",
              "      <td>0.210760</td>\n",
              "      <td>0.243384</td>\n",
              "      <td>0.378669</td>\n",
              "      <td>0.359648</td>\n",
              "      <td>605.300565</td>\n",
              "    </tr>\n",
              "    <tr>\n",
              "      <th>min</th>\n",
              "      <td>1.891236e+08</td>\n",
              "      <td>0.000000</td>\n",
              "      <td>0.000000</td>\n",
              "      <td>0.000000</td>\n",
              "      <td>0.000000</td>\n",
              "      <td>0.000000</td>\n",
              "      <td>5.937600</td>\n",
              "      <td>79.819100</td>\n",
              "      <td>5.941860</td>\n",
              "      <td>45.307700</td>\n",
              "      <td>0.000000</td>\n",
              "    </tr>\n",
              "    <tr>\n",
              "      <th>25%</th>\n",
              "      <td>1.947619e+08</td>\n",
              "      <td>10.500000</td>\n",
              "      <td>548.000000</td>\n",
              "      <td>33.000000</td>\n",
              "      <td>0.000000</td>\n",
              "      <td>26.000000</td>\n",
              "      <td>6.865077</td>\n",
              "      <td>79.870400</td>\n",
              "      <td>6.865625</td>\n",
              "      <td>79.870100</td>\n",
              "      <td>125.515000</td>\n",
              "    </tr>\n",
              "    <tr>\n",
              "      <th>50%</th>\n",
              "      <td>2.013582e+08</td>\n",
              "      <td>10.500000</td>\n",
              "      <td>1009.500000</td>\n",
              "      <td>123.000000</td>\n",
              "      <td>0.116600</td>\n",
              "      <td>73.000000</td>\n",
              "      <td>6.914105</td>\n",
              "      <td>79.898600</td>\n",
              "      <td>6.916160</td>\n",
              "      <td>79.899100</td>\n",
              "      <td>211.180000</td>\n",
              "    </tr>\n",
              "    <tr>\n",
              "      <th>75%</th>\n",
              "      <td>2.083081e+08</td>\n",
              "      <td>10.500000</td>\n",
              "      <td>1803.000000</td>\n",
              "      <td>351.000000</td>\n",
              "      <td>14.341800</td>\n",
              "      <td>144.000000</td>\n",
              "      <td>7.043057</td>\n",
              "      <td>79.956600</td>\n",
              "      <td>7.047195</td>\n",
              "      <td>79.960225</td>\n",
              "      <td>366.465000</td>\n",
              "    </tr>\n",
              "    <tr>\n",
              "      <th>max</th>\n",
              "      <td>2.138173e+08</td>\n",
              "      <td>12795.030000</td>\n",
              "      <td>453872.000000</td>\n",
              "      <td>453650.000000</td>\n",
              "      <td>26198.601400</td>\n",
              "      <td>51288.000000</td>\n",
              "      <td>8.051010</td>\n",
              "      <td>81.009600</td>\n",
              "      <td>48.132000</td>\n",
              "      <td>81.009700</td>\n",
              "      <td>26945.990000</td>\n",
              "    </tr>\n",
              "  </tbody>\n",
              "</table>\n",
              "</div>"
            ],
            "text/plain": [
              "             tripid  additional_fare  ...      drop_lon          fare\n",
              "count  1.717600e+04     16974.000000  ...  17176.000000  17039.000000\n",
              "mean   2.014549e+08        13.719651  ...     79.997534    312.655466\n",
              "std    7.456830e+06        98.975052  ...      0.359648    605.300565\n",
              "min    1.891236e+08         0.000000  ...     45.307700      0.000000\n",
              "25%    1.947619e+08        10.500000  ...     79.870100    125.515000\n",
              "50%    2.013582e+08        10.500000  ...     79.899100    211.180000\n",
              "75%    2.083081e+08        10.500000  ...     79.960225    366.465000\n",
              "max    2.138173e+08     12795.030000  ...     81.009700  26945.990000\n",
              "\n",
              "[8 rows x 11 columns]"
            ]
          },
          "metadata": {
            "tags": []
          },
          "execution_count": 35
        }
      ]
    },
    {
      "cell_type": "code",
      "metadata": {
        "id": "yYv9BGfGu0Y8",
        "colab_type": "code",
        "outputId": "0ba1da70-33f5-4d34-d082-24d8ba32f5ed",
        "colab": {
          "base_uri": "https://localhost:8080/",
          "height": 399
        }
      },
      "source": [
        "train_fare.info()"
      ],
      "execution_count": 36,
      "outputs": [
        {
          "output_type": "stream",
          "text": [
            "<class 'pandas.core.frame.DataFrame'>\n",
            "RangeIndex: 17176 entries, 0 to 17175\n",
            "Data columns (total 14 columns):\n",
            " #   Column                     Non-Null Count  Dtype  \n",
            "---  ------                     --------------  -----  \n",
            " 0   tripid                     17176 non-null  int64  \n",
            " 1   additional_fare            16974 non-null  float64\n",
            " 2   duration                   16974 non-null  float64\n",
            " 3   meter_waiting              16974 non-null  float64\n",
            " 4   meter_waiting_fare         16974 non-null  float64\n",
            " 5   meter_waiting_till_pickup  16974 non-null  float64\n",
            " 6   pickup_time                17176 non-null  object \n",
            " 7   drop_time                  17176 non-null  object \n",
            " 8   pick_lat                   17176 non-null  float64\n",
            " 9   pick_lon                   17176 non-null  float64\n",
            " 10  drop_lat                   17176 non-null  float64\n",
            " 11  drop_lon                   17176 non-null  float64\n",
            " 12  fare                       17039 non-null  float64\n",
            " 13  label                      17176 non-null  object \n",
            "dtypes: float64(10), int64(1), object(3)\n",
            "memory usage: 1.8+ MB\n"
          ],
          "name": "stdout"
        }
      ]
    },
    {
      "cell_type": "code",
      "metadata": {
        "id": "6-_FNIIYv0AD",
        "colab_type": "code",
        "colab": {}
      },
      "source": [
        "train_fare=train_fare.dropna(subset= [\"additional_fare\"])\n"
      ],
      "execution_count": 0,
      "outputs": []
    },
    {
      "cell_type": "code",
      "metadata": {
        "id": "Bjxb4tgqwwBo",
        "colab_type": "code",
        "outputId": "9bf3c8d8-4340-4ae1-d90b-65d750a54690",
        "colab": {
          "base_uri": "https://localhost:8080/",
          "height": 399
        }
      },
      "source": [
        "train_fare.info()"
      ],
      "execution_count": 38,
      "outputs": [
        {
          "output_type": "stream",
          "text": [
            "<class 'pandas.core.frame.DataFrame'>\n",
            "Int64Index: 16974 entries, 0 to 17175\n",
            "Data columns (total 14 columns):\n",
            " #   Column                     Non-Null Count  Dtype  \n",
            "---  ------                     --------------  -----  \n",
            " 0   tripid                     16974 non-null  int64  \n",
            " 1   additional_fare            16974 non-null  float64\n",
            " 2   duration                   16974 non-null  float64\n",
            " 3   meter_waiting              16974 non-null  float64\n",
            " 4   meter_waiting_fare         16974 non-null  float64\n",
            " 5   meter_waiting_till_pickup  16974 non-null  float64\n",
            " 6   pickup_time                16974 non-null  object \n",
            " 7   drop_time                  16974 non-null  object \n",
            " 8   pick_lat                   16974 non-null  float64\n",
            " 9   pick_lon                   16974 non-null  float64\n",
            " 10  drop_lat                   16974 non-null  float64\n",
            " 11  drop_lon                   16974 non-null  float64\n",
            " 12  fare                       16968 non-null  float64\n",
            " 13  label                      16974 non-null  object \n",
            "dtypes: float64(10), int64(1), object(3)\n",
            "memory usage: 1.9+ MB\n"
          ],
          "name": "stdout"
        }
      ]
    },
    {
      "cell_type": "code",
      "metadata": {
        "id": "sakcKgCcw0Ms",
        "colab_type": "code",
        "outputId": "142128aa-3fd3-4a90-84d2-973bb62fe8eb",
        "colab": {
          "base_uri": "https://localhost:8080/",
          "height": 313
        }
      },
      "source": [
        "train_fare.head()"
      ],
      "execution_count": 39,
      "outputs": [
        {
          "output_type": "execute_result",
          "data": {
            "text/html": [
              "<div>\n",
              "<style scoped>\n",
              "    .dataframe tbody tr th:only-of-type {\n",
              "        vertical-align: middle;\n",
              "    }\n",
              "\n",
              "    .dataframe tbody tr th {\n",
              "        vertical-align: top;\n",
              "    }\n",
              "\n",
              "    .dataframe thead th {\n",
              "        text-align: right;\n",
              "    }\n",
              "</style>\n",
              "<table border=\"1\" class=\"dataframe\">\n",
              "  <thead>\n",
              "    <tr style=\"text-align: right;\">\n",
              "      <th></th>\n",
              "      <th>tripid</th>\n",
              "      <th>additional_fare</th>\n",
              "      <th>duration</th>\n",
              "      <th>meter_waiting</th>\n",
              "      <th>meter_waiting_fare</th>\n",
              "      <th>meter_waiting_till_pickup</th>\n",
              "      <th>pickup_time</th>\n",
              "      <th>drop_time</th>\n",
              "      <th>pick_lat</th>\n",
              "      <th>pick_lon</th>\n",
              "      <th>drop_lat</th>\n",
              "      <th>drop_lon</th>\n",
              "      <th>fare</th>\n",
              "      <th>label</th>\n",
              "    </tr>\n",
              "  </thead>\n",
              "  <tbody>\n",
              "    <tr>\n",
              "      <th>0</th>\n",
              "      <td>189123628</td>\n",
              "      <td>10.5</td>\n",
              "      <td>834.0</td>\n",
              "      <td>56.0</td>\n",
              "      <td>0.0000</td>\n",
              "      <td>64.0</td>\n",
              "      <td>11/1/2019 0:20</td>\n",
              "      <td>11/1/2019 0:34</td>\n",
              "      <td>6.86252</td>\n",
              "      <td>79.8993</td>\n",
              "      <td>6.90330</td>\n",
              "      <td>79.8783</td>\n",
              "      <td>270.32</td>\n",
              "      <td>correct</td>\n",
              "    </tr>\n",
              "    <tr>\n",
              "      <th>1</th>\n",
              "      <td>189125358</td>\n",
              "      <td>10.5</td>\n",
              "      <td>791.0</td>\n",
              "      <td>47.0</td>\n",
              "      <td>0.0000</td>\n",
              "      <td>134.0</td>\n",
              "      <td>11/1/2019 0:56</td>\n",
              "      <td>11/1/2019 1:09</td>\n",
              "      <td>6.88589</td>\n",
              "      <td>79.8984</td>\n",
              "      <td>6.91373</td>\n",
              "      <td>79.8923</td>\n",
              "      <td>197.85</td>\n",
              "      <td>correct</td>\n",
              "    </tr>\n",
              "    <tr>\n",
              "      <th>2</th>\n",
              "      <td>189125719</td>\n",
              "      <td>10.5</td>\n",
              "      <td>1087.0</td>\n",
              "      <td>80.0</td>\n",
              "      <td>0.0000</td>\n",
              "      <td>61.0</td>\n",
              "      <td>11/1/2019 1:08</td>\n",
              "      <td>11/1/2019 1:26</td>\n",
              "      <td>6.90839</td>\n",
              "      <td>79.8651</td>\n",
              "      <td>6.93669</td>\n",
              "      <td>79.9146</td>\n",
              "      <td>301.64</td>\n",
              "      <td>correct</td>\n",
              "    </tr>\n",
              "    <tr>\n",
              "      <th>3</th>\n",
              "      <td>189127273</td>\n",
              "      <td>10.5</td>\n",
              "      <td>598.0</td>\n",
              "      <td>271.0</td>\n",
              "      <td>15.6638</td>\n",
              "      <td>68.0</td>\n",
              "      <td>11/1/2019 2:27</td>\n",
              "      <td>11/1/2019 2:37</td>\n",
              "      <td>6.92570</td>\n",
              "      <td>79.8895</td>\n",
              "      <td>6.92748</td>\n",
              "      <td>79.8971</td>\n",
              "      <td>82.30</td>\n",
              "      <td>correct</td>\n",
              "    </tr>\n",
              "    <tr>\n",
              "      <th>5</th>\n",
              "      <td>189129552</td>\n",
              "      <td>10.5</td>\n",
              "      <td>3407.0</td>\n",
              "      <td>182.0</td>\n",
              "      <td>0.0000</td>\n",
              "      <td>112.0</td>\n",
              "      <td>11/1/2019 5:38</td>\n",
              "      <td>11/1/2019 6:35</td>\n",
              "      <td>7.13402</td>\n",
              "      <td>79.8969</td>\n",
              "      <td>6.91865</td>\n",
              "      <td>79.8649</td>\n",
              "      <td>1065.02</td>\n",
              "      <td>correct</td>\n",
              "    </tr>\n",
              "  </tbody>\n",
              "</table>\n",
              "</div>"
            ],
            "text/plain": [
              "      tripid  additional_fare  duration  ...  drop_lon     fare    label\n",
              "0  189123628             10.5     834.0  ...   79.8783   270.32  correct\n",
              "1  189125358             10.5     791.0  ...   79.8923   197.85  correct\n",
              "2  189125719             10.5    1087.0  ...   79.9146   301.64  correct\n",
              "3  189127273             10.5     598.0  ...   79.8971    82.30  correct\n",
              "5  189129552             10.5    3407.0  ...   79.8649  1065.02  correct\n",
              "\n",
              "[5 rows x 14 columns]"
            ]
          },
          "metadata": {
            "tags": []
          },
          "execution_count": 39
        }
      ]
    },
    {
      "cell_type": "code",
      "metadata": {
        "id": "mDaYLDclw9l7",
        "colab_type": "code",
        "colab": {
          "base_uri": "https://localhost:8080/",
          "height": 399
        },
        "outputId": "f78fd684-0495-4d7c-f91f-0f0dc1c5faae"
      },
      "source": [
        "train_fare.info()\n"
      ],
      "execution_count": 40,
      "outputs": [
        {
          "output_type": "stream",
          "text": [
            "<class 'pandas.core.frame.DataFrame'>\n",
            "Int64Index: 16974 entries, 0 to 17175\n",
            "Data columns (total 14 columns):\n",
            " #   Column                     Non-Null Count  Dtype  \n",
            "---  ------                     --------------  -----  \n",
            " 0   tripid                     16974 non-null  int64  \n",
            " 1   additional_fare            16974 non-null  float64\n",
            " 2   duration                   16974 non-null  float64\n",
            " 3   meter_waiting              16974 non-null  float64\n",
            " 4   meter_waiting_fare         16974 non-null  float64\n",
            " 5   meter_waiting_till_pickup  16974 non-null  float64\n",
            " 6   pickup_time                16974 non-null  object \n",
            " 7   drop_time                  16974 non-null  object \n",
            " 8   pick_lat                   16974 non-null  float64\n",
            " 9   pick_lon                   16974 non-null  float64\n",
            " 10  drop_lat                   16974 non-null  float64\n",
            " 11  drop_lon                   16974 non-null  float64\n",
            " 12  fare                       16968 non-null  float64\n",
            " 13  label                      16974 non-null  object \n",
            "dtypes: float64(10), int64(1), object(3)\n",
            "memory usage: 1.9+ MB\n"
          ],
          "name": "stdout"
        }
      ]
    },
    {
      "cell_type": "code",
      "metadata": {
        "id": "vAphEjOu6k7y",
        "colab_type": "code",
        "colab": {}
      },
      "source": [
        "train_fare['pickup_time'] =  pd.to_datetime(train_fare['pickup_time'], format='%m/%d/%Y %H:%M')\n",
        "train_fare['drop_time'] =  pd.to_datetime(train_fare['drop_time'], format='%m/%d/%Y %H:%M')"
      ],
      "execution_count": 0,
      "outputs": []
    },
    {
      "cell_type": "code",
      "metadata": {
        "id": "apADXVVT7vjG",
        "colab_type": "code",
        "colab": {}
      },
      "source": [
        "train_fare['pickup_time_year']=train_fare['pickup_time'].dt.year\n",
        "train_fare['pickup_time_month']=train_fare['pickup_time'].dt.month\n",
        "train_fare['pickup_time_date']=train_fare['pickup_time'].dt.day\n",
        "train_fare['pickup_time_day']=train_fare['pickup_time'].dt.dayofweek\n",
        "train_fare['pickup_time_hour']=train_fare['pickup_time'].dt.hour\n",
        "train_fare['pickup_time_minute']=train_fare['pickup_time'].dt.minute\n",
        "train_fare['drop_time_year']=train_fare['drop_time'].dt.year\n",
        "train_fare['drop_time_month']=train_fare['drop_time'].dt.month\n",
        "train_fare['drop_time_date']=train_fare['drop_time'].dt.day\n",
        "train_fare['drop_time_day']=train_fare['drop_time'].dt.dayofweek\n",
        "train_fare['drop_time_hour']=train_fare['drop_time'].dt.hour\n",
        "train_fare['drop_time_minute']=train_fare['drop_time'].dt.minute"
      ],
      "execution_count": 0,
      "outputs": []
    },
    {
      "cell_type": "markdown",
      "metadata": {
        "id": "auUuXXCq1EQV",
        "colab_type": "text"
      },
      "source": [
        ""
      ]
    },
    {
      "cell_type": "code",
      "metadata": {
        "id": "7qM7DPcp8IwF",
        "colab_type": "code",
        "colab": {
          "base_uri": "https://localhost:8080/",
          "height": 313
        },
        "outputId": "457ebda0-2f21-4310-f001-359d036467e9"
      },
      "source": [
        "train_fare.head()"
      ],
      "execution_count": 49,
      "outputs": [
        {
          "output_type": "execute_result",
          "data": {
            "text/html": [
              "<div>\n",
              "<style scoped>\n",
              "    .dataframe tbody tr th:only-of-type {\n",
              "        vertical-align: middle;\n",
              "    }\n",
              "\n",
              "    .dataframe tbody tr th {\n",
              "        vertical-align: top;\n",
              "    }\n",
              "\n",
              "    .dataframe thead th {\n",
              "        text-align: right;\n",
              "    }\n",
              "</style>\n",
              "<table border=\"1\" class=\"dataframe\">\n",
              "  <thead>\n",
              "    <tr style=\"text-align: right;\">\n",
              "      <th></th>\n",
              "      <th>tripid</th>\n",
              "      <th>additional_fare</th>\n",
              "      <th>duration</th>\n",
              "      <th>meter_waiting</th>\n",
              "      <th>meter_waiting_fare</th>\n",
              "      <th>meter_waiting_till_pickup</th>\n",
              "      <th>pickup_time</th>\n",
              "      <th>drop_time</th>\n",
              "      <th>pick_lat</th>\n",
              "      <th>pick_lon</th>\n",
              "      <th>drop_lat</th>\n",
              "      <th>drop_lon</th>\n",
              "      <th>fare</th>\n",
              "      <th>label</th>\n",
              "      <th>pickup_time_year</th>\n",
              "      <th>pickup_time_month</th>\n",
              "      <th>pickup_time_date</th>\n",
              "      <th>pickup_time_day</th>\n",
              "      <th>pickup_time_hour</th>\n",
              "      <th>pickup_time_minute</th>\n",
              "      <th>drop_time_year</th>\n",
              "      <th>drop_time_month</th>\n",
              "      <th>drop_time_date</th>\n",
              "      <th>drop_time_day</th>\n",
              "      <th>drop_time_hour</th>\n",
              "      <th>drop_time_minute</th>\n",
              "    </tr>\n",
              "  </thead>\n",
              "  <tbody>\n",
              "    <tr>\n",
              "      <th>0</th>\n",
              "      <td>189123628</td>\n",
              "      <td>10.5</td>\n",
              "      <td>834.0</td>\n",
              "      <td>56.0</td>\n",
              "      <td>0.0000</td>\n",
              "      <td>64.0</td>\n",
              "      <td>2019-11-01 00:20:00</td>\n",
              "      <td>2019-11-01 00:34:00</td>\n",
              "      <td>6.86252</td>\n",
              "      <td>79.8993</td>\n",
              "      <td>6.90330</td>\n",
              "      <td>79.8783</td>\n",
              "      <td>270.32</td>\n",
              "      <td>correct</td>\n",
              "      <td>2019</td>\n",
              "      <td>11</td>\n",
              "      <td>1</td>\n",
              "      <td>4</td>\n",
              "      <td>0</td>\n",
              "      <td>20</td>\n",
              "      <td>2019</td>\n",
              "      <td>11</td>\n",
              "      <td>1</td>\n",
              "      <td>4</td>\n",
              "      <td>0</td>\n",
              "      <td>34</td>\n",
              "    </tr>\n",
              "    <tr>\n",
              "      <th>1</th>\n",
              "      <td>189125358</td>\n",
              "      <td>10.5</td>\n",
              "      <td>791.0</td>\n",
              "      <td>47.0</td>\n",
              "      <td>0.0000</td>\n",
              "      <td>134.0</td>\n",
              "      <td>2019-11-01 00:56:00</td>\n",
              "      <td>2019-11-01 01:09:00</td>\n",
              "      <td>6.88589</td>\n",
              "      <td>79.8984</td>\n",
              "      <td>6.91373</td>\n",
              "      <td>79.8923</td>\n",
              "      <td>197.85</td>\n",
              "      <td>correct</td>\n",
              "      <td>2019</td>\n",
              "      <td>11</td>\n",
              "      <td>1</td>\n",
              "      <td>4</td>\n",
              "      <td>0</td>\n",
              "      <td>56</td>\n",
              "      <td>2019</td>\n",
              "      <td>11</td>\n",
              "      <td>1</td>\n",
              "      <td>4</td>\n",
              "      <td>1</td>\n",
              "      <td>9</td>\n",
              "    </tr>\n",
              "    <tr>\n",
              "      <th>2</th>\n",
              "      <td>189125719</td>\n",
              "      <td>10.5</td>\n",
              "      <td>1087.0</td>\n",
              "      <td>80.0</td>\n",
              "      <td>0.0000</td>\n",
              "      <td>61.0</td>\n",
              "      <td>2019-11-01 01:08:00</td>\n",
              "      <td>2019-11-01 01:26:00</td>\n",
              "      <td>6.90839</td>\n",
              "      <td>79.8651</td>\n",
              "      <td>6.93669</td>\n",
              "      <td>79.9146</td>\n",
              "      <td>301.64</td>\n",
              "      <td>correct</td>\n",
              "      <td>2019</td>\n",
              "      <td>11</td>\n",
              "      <td>1</td>\n",
              "      <td>4</td>\n",
              "      <td>1</td>\n",
              "      <td>8</td>\n",
              "      <td>2019</td>\n",
              "      <td>11</td>\n",
              "      <td>1</td>\n",
              "      <td>4</td>\n",
              "      <td>1</td>\n",
              "      <td>26</td>\n",
              "    </tr>\n",
              "    <tr>\n",
              "      <th>3</th>\n",
              "      <td>189127273</td>\n",
              "      <td>10.5</td>\n",
              "      <td>598.0</td>\n",
              "      <td>271.0</td>\n",
              "      <td>15.6638</td>\n",
              "      <td>68.0</td>\n",
              "      <td>2019-11-01 02:27:00</td>\n",
              "      <td>2019-11-01 02:37:00</td>\n",
              "      <td>6.92570</td>\n",
              "      <td>79.8895</td>\n",
              "      <td>6.92748</td>\n",
              "      <td>79.8971</td>\n",
              "      <td>82.30</td>\n",
              "      <td>correct</td>\n",
              "      <td>2019</td>\n",
              "      <td>11</td>\n",
              "      <td>1</td>\n",
              "      <td>4</td>\n",
              "      <td>2</td>\n",
              "      <td>27</td>\n",
              "      <td>2019</td>\n",
              "      <td>11</td>\n",
              "      <td>1</td>\n",
              "      <td>4</td>\n",
              "      <td>2</td>\n",
              "      <td>37</td>\n",
              "    </tr>\n",
              "    <tr>\n",
              "      <th>5</th>\n",
              "      <td>189129552</td>\n",
              "      <td>10.5</td>\n",
              "      <td>3407.0</td>\n",
              "      <td>182.0</td>\n",
              "      <td>0.0000</td>\n",
              "      <td>112.0</td>\n",
              "      <td>2019-11-01 05:38:00</td>\n",
              "      <td>2019-11-01 06:35:00</td>\n",
              "      <td>7.13402</td>\n",
              "      <td>79.8969</td>\n",
              "      <td>6.91865</td>\n",
              "      <td>79.8649</td>\n",
              "      <td>1065.02</td>\n",
              "      <td>correct</td>\n",
              "      <td>2019</td>\n",
              "      <td>11</td>\n",
              "      <td>1</td>\n",
              "      <td>4</td>\n",
              "      <td>5</td>\n",
              "      <td>38</td>\n",
              "      <td>2019</td>\n",
              "      <td>11</td>\n",
              "      <td>1</td>\n",
              "      <td>4</td>\n",
              "      <td>6</td>\n",
              "      <td>35</td>\n",
              "    </tr>\n",
              "  </tbody>\n",
              "</table>\n",
              "</div>"
            ],
            "text/plain": [
              "      tripid  additional_fare  ...  drop_time_hour  drop_time_minute\n",
              "0  189123628             10.5  ...               0                34\n",
              "1  189125358             10.5  ...               1                 9\n",
              "2  189125719             10.5  ...               1                26\n",
              "3  189127273             10.5  ...               2                37\n",
              "5  189129552             10.5  ...               6                35\n",
              "\n",
              "[5 rows x 26 columns]"
            ]
          },
          "metadata": {
            "tags": []
          },
          "execution_count": 49
        }
      ]
    },
    {
      "cell_type": "code",
      "metadata": {
        "id": "L13hFvnV8LxX",
        "colab_type": "code",
        "colab": {}
      },
      "source": [
        "train_fare=train_fare.drop(columns=\"pickup_time\")\n",
        "train_fare=train_fare.drop(columns=\"drop_time\")\n"
      ],
      "execution_count": 0,
      "outputs": []
    },
    {
      "cell_type": "code",
      "metadata": {
        "id": "_CVkkL5-8Qim",
        "colab_type": "code",
        "colab": {
          "base_uri": "https://localhost:8080/",
          "height": 580
        },
        "outputId": "0b6f4e23-10ee-4482-879c-143c01252ff5"
      },
      "source": [
        "train_fare.info()"
      ],
      "execution_count": 56,
      "outputs": [
        {
          "output_type": "stream",
          "text": [
            "<class 'pandas.core.frame.DataFrame'>\n",
            "Int64Index: 16974 entries, 0 to 17175\n",
            "Data columns (total 24 columns):\n",
            " #   Column                     Non-Null Count  Dtype  \n",
            "---  ------                     --------------  -----  \n",
            " 0   tripid                     16974 non-null  int64  \n",
            " 1   additional_fare            16974 non-null  float64\n",
            " 2   duration                   16974 non-null  float64\n",
            " 3   meter_waiting              16974 non-null  float64\n",
            " 4   meter_waiting_fare         16974 non-null  float64\n",
            " 5   meter_waiting_till_pickup  16974 non-null  float64\n",
            " 6   pick_lat                   16974 non-null  float64\n",
            " 7   pick_lon                   16974 non-null  float64\n",
            " 8   drop_lat                   16974 non-null  float64\n",
            " 9   drop_lon                   16974 non-null  float64\n",
            " 10  fare                       16968 non-null  float64\n",
            " 11  label                      16974 non-null  object \n",
            " 12  pickup_time_year           16974 non-null  int64  \n",
            " 13  pickup_time_month          16974 non-null  int64  \n",
            " 14  pickup_time_date           16974 non-null  int64  \n",
            " 15  pickup_time_day            16974 non-null  int64  \n",
            " 16  pickup_time_hour           16974 non-null  int64  \n",
            " 17  pickup_time_minute         16974 non-null  int64  \n",
            " 18  drop_time_year             16974 non-null  int64  \n",
            " 19  drop_time_month            16974 non-null  int64  \n",
            " 20  drop_time_date             16974 non-null  int64  \n",
            " 21  drop_time_day              16974 non-null  int64  \n",
            " 22  drop_time_hour             16974 non-null  int64  \n",
            " 23  drop_time_minute           16974 non-null  int64  \n",
            "dtypes: float64(10), int64(13), object(1)\n",
            "memory usage: 3.2+ MB\n"
          ],
          "name": "stdout"
        }
      ]
    },
    {
      "cell_type": "code",
      "metadata": {
        "id": "BKUAh9CL92Wc",
        "colab_type": "code",
        "colab": {
          "base_uri": "https://localhost:8080/",
          "height": 35
        },
        "outputId": "ba79f3c7-d0a5-4d08-fa18-6a85dec86414"
      },
      "source": [
        "train_fare[\"fare\"].isnull().sum()"
      ],
      "execution_count": 58,
      "outputs": [
        {
          "output_type": "execute_result",
          "data": {
            "text/plain": [
              "6"
            ]
          },
          "metadata": {
            "tags": []
          },
          "execution_count": 58
        }
      ]
    },
    {
      "cell_type": "code",
      "metadata": {
        "id": "Cm5DaEN9GZJk",
        "colab_type": "code",
        "colab": {}
      },
      "source": [
        "train_fare = train_fare.drop(train_fare[train_fare['fare'].isnull()].index, axis=0)"
      ],
      "execution_count": 0,
      "outputs": []
    },
    {
      "cell_type": "code",
      "metadata": {
        "id": "2vl-tloVYFlW",
        "colab_type": "code",
        "colab": {
          "base_uri": "https://localhost:8080/",
          "height": 580
        },
        "outputId": "09aa53d5-6995-41fe-db33-b71b31c2c100"
      },
      "source": [
        "train_fare.info()"
      ],
      "execution_count": 60,
      "outputs": [
        {
          "output_type": "stream",
          "text": [
            "<class 'pandas.core.frame.DataFrame'>\n",
            "Int64Index: 16968 entries, 0 to 17175\n",
            "Data columns (total 24 columns):\n",
            " #   Column                     Non-Null Count  Dtype  \n",
            "---  ------                     --------------  -----  \n",
            " 0   tripid                     16968 non-null  int64  \n",
            " 1   additional_fare            16968 non-null  float64\n",
            " 2   duration                   16968 non-null  float64\n",
            " 3   meter_waiting              16968 non-null  float64\n",
            " 4   meter_waiting_fare         16968 non-null  float64\n",
            " 5   meter_waiting_till_pickup  16968 non-null  float64\n",
            " 6   pick_lat                   16968 non-null  float64\n",
            " 7   pick_lon                   16968 non-null  float64\n",
            " 8   drop_lat                   16968 non-null  float64\n",
            " 9   drop_lon                   16968 non-null  float64\n",
            " 10  fare                       16968 non-null  float64\n",
            " 11  label                      16968 non-null  object \n",
            " 12  pickup_time_year           16968 non-null  int64  \n",
            " 13  pickup_time_month          16968 non-null  int64  \n",
            " 14  pickup_time_date           16968 non-null  int64  \n",
            " 15  pickup_time_day            16968 non-null  int64  \n",
            " 16  pickup_time_hour           16968 non-null  int64  \n",
            " 17  pickup_time_minute         16968 non-null  int64  \n",
            " 18  drop_time_year             16968 non-null  int64  \n",
            " 19  drop_time_month            16968 non-null  int64  \n",
            " 20  drop_time_date             16968 non-null  int64  \n",
            " 21  drop_time_day              16968 non-null  int64  \n",
            " 22  drop_time_hour             16968 non-null  int64  \n",
            " 23  drop_time_minute           16968 non-null  int64  \n",
            "dtypes: float64(10), int64(13), object(1)\n",
            "memory usage: 3.2+ MB\n"
          ],
          "name": "stdout"
        }
      ]
    },
    {
      "cell_type": "code",
      "metadata": {
        "id": "vkAGj8ddYHqt",
        "colab_type": "code",
        "colab": {
          "base_uri": "https://localhost:8080/",
          "height": 471
        },
        "outputId": "64597f8d-ad11-4bbc-dccc-578d3db87203"
      },
      "source": [
        "train_fare.isnull().sum()"
      ],
      "execution_count": 62,
      "outputs": [
        {
          "output_type": "execute_result",
          "data": {
            "text/plain": [
              "tripid                       0\n",
              "additional_fare              0\n",
              "duration                     0\n",
              "meter_waiting                0\n",
              "meter_waiting_fare           0\n",
              "meter_waiting_till_pickup    0\n",
              "pick_lat                     0\n",
              "pick_lon                     0\n",
              "drop_lat                     0\n",
              "drop_lon                     0\n",
              "fare                         0\n",
              "label                        0\n",
              "pickup_time_year             0\n",
              "pickup_time_month            0\n",
              "pickup_time_date             0\n",
              "pickup_time_day              0\n",
              "pickup_time_hour             0\n",
              "pickup_time_minute           0\n",
              "drop_time_year               0\n",
              "drop_time_month              0\n",
              "drop_time_date               0\n",
              "drop_time_day                0\n",
              "drop_time_hour               0\n",
              "drop_time_minute             0\n",
              "dtype: int64"
            ]
          },
          "metadata": {
            "tags": []
          },
          "execution_count": 62
        }
      ]
    },
    {
      "cell_type": "code",
      "metadata": {
        "id": "4UF7GoYoYLQo",
        "colab_type": "code",
        "colab": {
          "base_uri": "https://localhost:8080/",
          "height": 320
        },
        "outputId": "c7733521-1589-41b6-affa-83e0e9e80ae7"
      },
      "source": [
        "train_fare.describe()"
      ],
      "execution_count": 93,
      "outputs": [
        {
          "output_type": "execute_result",
          "data": {
            "text/html": [
              "<div>\n",
              "<style scoped>\n",
              "    .dataframe tbody tr th:only-of-type {\n",
              "        vertical-align: middle;\n",
              "    }\n",
              "\n",
              "    .dataframe tbody tr th {\n",
              "        vertical-align: top;\n",
              "    }\n",
              "\n",
              "    .dataframe thead th {\n",
              "        text-align: right;\n",
              "    }\n",
              "</style>\n",
              "<table border=\"1\" class=\"dataframe\">\n",
              "  <thead>\n",
              "    <tr style=\"text-align: right;\">\n",
              "      <th></th>\n",
              "      <th>tripid</th>\n",
              "      <th>additional_fare</th>\n",
              "      <th>duration</th>\n",
              "      <th>meter_waiting</th>\n",
              "      <th>meter_waiting_fare</th>\n",
              "      <th>meter_waiting_till_pickup</th>\n",
              "      <th>pick_lat</th>\n",
              "      <th>pick_lon</th>\n",
              "      <th>drop_lat</th>\n",
              "      <th>drop_lon</th>\n",
              "      <th>fare</th>\n",
              "      <th>pickup_time_year</th>\n",
              "      <th>pickup_time_month</th>\n",
              "      <th>pickup_time_date</th>\n",
              "      <th>pickup_time_day</th>\n",
              "      <th>pickup_time_hour</th>\n",
              "      <th>pickup_time_minute</th>\n",
              "      <th>drop_time_year</th>\n",
              "      <th>drop_time_month</th>\n",
              "      <th>drop_time_date</th>\n",
              "      <th>drop_time_day</th>\n",
              "      <th>drop_time_hour</th>\n",
              "      <th>drop_time_minute</th>\n",
              "    </tr>\n",
              "  </thead>\n",
              "  <tbody>\n",
              "    <tr>\n",
              "      <th>count</th>\n",
              "      <td>1.696800e+04</td>\n",
              "      <td>16968.000000</td>\n",
              "      <td>16968.000000</td>\n",
              "      <td>16968.000000</td>\n",
              "      <td>16968.000000</td>\n",
              "      <td>16968.000000</td>\n",
              "      <td>16968.000000</td>\n",
              "      <td>16968.000000</td>\n",
              "      <td>16968.000000</td>\n",
              "      <td>16968.000000</td>\n",
              "      <td>16968.000000</td>\n",
              "      <td>16968.000000</td>\n",
              "      <td>16968.000000</td>\n",
              "      <td>16968.000000</td>\n",
              "      <td>16968.000000</td>\n",
              "      <td>16968.000000</td>\n",
              "      <td>16968.000000</td>\n",
              "      <td>16968.000000</td>\n",
              "      <td>16968.000000</td>\n",
              "      <td>16968.000000</td>\n",
              "      <td>16968.000000</td>\n",
              "      <td>16968.000000</td>\n",
              "      <td>16968.000000</td>\n",
              "    </tr>\n",
              "    <tr>\n",
              "      <th>mean</th>\n",
              "      <td>2.014695e+08</td>\n",
              "      <td>10.331473</td>\n",
              "      <td>1034.905058</td>\n",
              "      <td>215.542337</td>\n",
              "      <td>8.227091</td>\n",
              "      <td>67.020677</td>\n",
              "      <td>6.965160</td>\n",
              "      <td>79.998018</td>\n",
              "      <td>6.968278</td>\n",
              "      <td>79.997108</td>\n",
              "      <td>312.657884</td>\n",
              "      <td>2019.339816</td>\n",
              "      <td>7.950024</td>\n",
              "      <td>15.858852</td>\n",
              "      <td>2.919731</td>\n",
              "      <td>13.802746</td>\n",
              "      <td>29.486150</td>\n",
              "      <td>2019.339934</td>\n",
              "      <td>7.948845</td>\n",
              "      <td>15.859795</td>\n",
              "      <td>2.921676</td>\n",
              "      <td>14.081978</td>\n",
              "      <td>29.411363</td>\n",
              "    </tr>\n",
              "    <tr>\n",
              "      <th>std</th>\n",
              "      <td>7.453627e+06</td>\n",
              "      <td>1.721619</td>\n",
              "      <td>553.222014</td>\n",
              "      <td>218.969489</td>\n",
              "      <td>11.936970</td>\n",
              "      <td>42.750661</td>\n",
              "      <td>0.210840</td>\n",
              "      <td>0.242832</td>\n",
              "      <td>0.380253</td>\n",
              "      <td>0.360503</td>\n",
              "      <td>606.372103</td>\n",
              "      <td>0.473661</td>\n",
              "      <td>5.002891</td>\n",
              "      <td>8.844015</td>\n",
              "      <td>1.940086</td>\n",
              "      <td>4.819490</td>\n",
              "      <td>17.286925</td>\n",
              "      <td>0.473700</td>\n",
              "      <td>5.003350</td>\n",
              "      <td>8.844116</td>\n",
              "      <td>1.940758</td>\n",
              "      <td>4.881727</td>\n",
              "      <td>17.381706</td>\n",
              "    </tr>\n",
              "    <tr>\n",
              "      <th>min</th>\n",
              "      <td>1.891236e+08</td>\n",
              "      <td>0.000000</td>\n",
              "      <td>0.000000</td>\n",
              "      <td>0.000000</td>\n",
              "      <td>0.000000</td>\n",
              "      <td>0.000000</td>\n",
              "      <td>5.937600</td>\n",
              "      <td>79.819100</td>\n",
              "      <td>5.941860</td>\n",
              "      <td>45.307700</td>\n",
              "      <td>0.000000</td>\n",
              "      <td>2019.000000</td>\n",
              "      <td>1.000000</td>\n",
              "      <td>1.000000</td>\n",
              "      <td>0.000000</td>\n",
              "      <td>0.000000</td>\n",
              "      <td>0.000000</td>\n",
              "      <td>2019.000000</td>\n",
              "      <td>1.000000</td>\n",
              "      <td>1.000000</td>\n",
              "      <td>0.000000</td>\n",
              "      <td>0.000000</td>\n",
              "      <td>0.000000</td>\n",
              "    </tr>\n",
              "    <tr>\n",
              "      <th>25%</th>\n",
              "      <td>1.947342e+08</td>\n",
              "      <td>10.500000</td>\n",
              "      <td>548.000000</td>\n",
              "      <td>33.000000</td>\n",
              "      <td>0.000000</td>\n",
              "      <td>26.000000</td>\n",
              "      <td>6.864830</td>\n",
              "      <td>79.870475</td>\n",
              "      <td>6.865580</td>\n",
              "      <td>79.870100</td>\n",
              "      <td>125.500000</td>\n",
              "      <td>2019.000000</td>\n",
              "      <td>1.000000</td>\n",
              "      <td>8.000000</td>\n",
              "      <td>1.000000</td>\n",
              "      <td>10.000000</td>\n",
              "      <td>15.000000</td>\n",
              "      <td>2019.000000</td>\n",
              "      <td>1.000000</td>\n",
              "      <td>8.000000</td>\n",
              "      <td>1.000000</td>\n",
              "      <td>11.000000</td>\n",
              "      <td>14.000000</td>\n",
              "    </tr>\n",
              "    <tr>\n",
              "      <th>50%</th>\n",
              "      <td>2.013928e+08</td>\n",
              "      <td>10.500000</td>\n",
              "      <td>1009.000000</td>\n",
              "      <td>123.000000</td>\n",
              "      <td>0.115600</td>\n",
              "      <td>73.000000</td>\n",
              "      <td>6.913970</td>\n",
              "      <td>79.898600</td>\n",
              "      <td>6.915940</td>\n",
              "      <td>79.899000</td>\n",
              "      <td>211.050000</td>\n",
              "      <td>2019.000000</td>\n",
              "      <td>11.000000</td>\n",
              "      <td>16.000000</td>\n",
              "      <td>3.000000</td>\n",
              "      <td>14.000000</td>\n",
              "      <td>29.000000</td>\n",
              "      <td>2019.000000</td>\n",
              "      <td>11.000000</td>\n",
              "      <td>16.000000</td>\n",
              "      <td>3.000000</td>\n",
              "      <td>14.000000</td>\n",
              "      <td>29.000000</td>\n",
              "    </tr>\n",
              "    <tr>\n",
              "      <th>75%</th>\n",
              "      <td>2.083314e+08</td>\n",
              "      <td>10.500000</td>\n",
              "      <td>1702.836987</td>\n",
              "      <td>351.000000</td>\n",
              "      <td>14.334400</td>\n",
              "      <td>112.489510</td>\n",
              "      <td>7.042698</td>\n",
              "      <td>79.956500</td>\n",
              "      <td>7.046555</td>\n",
              "      <td>79.960000</td>\n",
              "      <td>366.205000</td>\n",
              "      <td>2020.000000</td>\n",
              "      <td>12.000000</td>\n",
              "      <td>23.000000</td>\n",
              "      <td>5.000000</td>\n",
              "      <td>18.000000</td>\n",
              "      <td>45.000000</td>\n",
              "      <td>2020.000000</td>\n",
              "      <td>12.000000</td>\n",
              "      <td>23.000000</td>\n",
              "      <td>5.000000</td>\n",
              "      <td>18.000000</td>\n",
              "      <td>44.000000</td>\n",
              "    </tr>\n",
              "    <tr>\n",
              "      <th>max</th>\n",
              "      <td>2.138173e+08</td>\n",
              "      <td>13.721437</td>\n",
              "      <td>1702.836987</td>\n",
              "      <td>628.875000</td>\n",
              "      <td>32.045122</td>\n",
              "      <td>112.489510</td>\n",
              "      <td>8.051010</td>\n",
              "      <td>81.009600</td>\n",
              "      <td>48.132000</td>\n",
              "      <td>81.009700</td>\n",
              "      <td>26945.990000</td>\n",
              "      <td>2020.000000</td>\n",
              "      <td>12.000000</td>\n",
              "      <td>31.000000</td>\n",
              "      <td>6.000000</td>\n",
              "      <td>23.000000</td>\n",
              "      <td>59.000000</td>\n",
              "      <td>2020.000000</td>\n",
              "      <td>12.000000</td>\n",
              "      <td>31.000000</td>\n",
              "      <td>6.000000</td>\n",
              "      <td>23.000000</td>\n",
              "      <td>59.000000</td>\n",
              "    </tr>\n",
              "  </tbody>\n",
              "</table>\n",
              "</div>"
            ],
            "text/plain": [
              "             tripid  additional_fare  ...  drop_time_hour  drop_time_minute\n",
              "count  1.696800e+04     16968.000000  ...    16968.000000      16968.000000\n",
              "mean   2.014695e+08        10.331473  ...       14.081978         29.411363\n",
              "std    7.453627e+06         1.721619  ...        4.881727         17.381706\n",
              "min    1.891236e+08         0.000000  ...        0.000000          0.000000\n",
              "25%    1.947342e+08        10.500000  ...       11.000000         14.000000\n",
              "50%    2.013928e+08        10.500000  ...       14.000000         29.000000\n",
              "75%    2.083314e+08        10.500000  ...       18.000000         44.000000\n",
              "max    2.138173e+08        13.721437  ...       23.000000         59.000000\n",
              "\n",
              "[8 rows x 23 columns]"
            ]
          },
          "metadata": {
            "tags": []
          },
          "execution_count": 93
        }
      ]
    },
    {
      "cell_type": "code",
      "metadata": {
        "id": "BenTEGw2Ya03",
        "colab_type": "code",
        "colab": {
          "base_uri": "https://localhost:8080/",
          "height": 35
        },
        "outputId": "abc7d04e-756d-4196-b00f-7ae35d8769f6"
      },
      "source": [
        "Counter(train_fare['additional_fare']>13.721437)"
      ],
      "execution_count": 88,
      "outputs": [
        {
          "output_type": "execute_result",
          "data": {
            "text/plain": [
              "Counter({False: 15749, True: 1219})"
            ]
          },
          "metadata": {
            "tags": []
          },
          "execution_count": 88
        }
      ]
    },
    {
      "cell_type": "code",
      "metadata": {
        "id": "F-zbKJ9miK99",
        "colab_type": "code",
        "colab": {}
      },
      "source": [
        "train_fare.loc[train_fare['additional_fare'] > 13.721437, 'additional_fare'] = 13.721437\n",
        "train_fare.loc[train_fare['duration'] >1702.836987, 'duration'] = 1702.836987\n",
        "train_fare.loc[train_fare['meter_waiting'] > 628.875000 \t, 'meter_waiting'] = 628.875000\n",
        "train_fare.loc[train_fare['meter_waiting_fare'] > 32.045122 \t \t, 'meter_waiting_fare'] = 32.045122\n",
        "train_fare.loc[train_fare['meter_waiting_till_pickup'] > 112.489510 \t \t, 'meter_waiting_till_pickup'] = 112.489510\n",
        "\n"
      ],
      "execution_count": 0,
      "outputs": []
    },
    {
      "cell_type": "code",
      "metadata": {
        "id": "m_r8nPdcuf4u",
        "colab_type": "code",
        "colab": {
          "base_uri": "https://localhost:8080/",
          "height": 320
        },
        "outputId": "1cb15e28-8f74-4918-c001-fd3aa645dbe2"
      },
      "source": [
        "train_fare.describe()"
      ],
      "execution_count": 92,
      "outputs": [
        {
          "output_type": "execute_result",
          "data": {
            "text/html": [
              "<div>\n",
              "<style scoped>\n",
              "    .dataframe tbody tr th:only-of-type {\n",
              "        vertical-align: middle;\n",
              "    }\n",
              "\n",
              "    .dataframe tbody tr th {\n",
              "        vertical-align: top;\n",
              "    }\n",
              "\n",
              "    .dataframe thead th {\n",
              "        text-align: right;\n",
              "    }\n",
              "</style>\n",
              "<table border=\"1\" class=\"dataframe\">\n",
              "  <thead>\n",
              "    <tr style=\"text-align: right;\">\n",
              "      <th></th>\n",
              "      <th>tripid</th>\n",
              "      <th>additional_fare</th>\n",
              "      <th>duration</th>\n",
              "      <th>meter_waiting</th>\n",
              "      <th>meter_waiting_fare</th>\n",
              "      <th>meter_waiting_till_pickup</th>\n",
              "      <th>pick_lat</th>\n",
              "      <th>pick_lon</th>\n",
              "      <th>drop_lat</th>\n",
              "      <th>drop_lon</th>\n",
              "      <th>fare</th>\n",
              "      <th>pickup_time_year</th>\n",
              "      <th>pickup_time_month</th>\n",
              "      <th>pickup_time_date</th>\n",
              "      <th>pickup_time_day</th>\n",
              "      <th>pickup_time_hour</th>\n",
              "      <th>pickup_time_minute</th>\n",
              "      <th>drop_time_year</th>\n",
              "      <th>drop_time_month</th>\n",
              "      <th>drop_time_date</th>\n",
              "      <th>drop_time_day</th>\n",
              "      <th>drop_time_hour</th>\n",
              "      <th>drop_time_minute</th>\n",
              "    </tr>\n",
              "  </thead>\n",
              "  <tbody>\n",
              "    <tr>\n",
              "      <th>count</th>\n",
              "      <td>1.696800e+04</td>\n",
              "      <td>16968.000000</td>\n",
              "      <td>16968.000000</td>\n",
              "      <td>16968.000000</td>\n",
              "      <td>16968.000000</td>\n",
              "      <td>16968.000000</td>\n",
              "      <td>16968.000000</td>\n",
              "      <td>16968.000000</td>\n",
              "      <td>16968.000000</td>\n",
              "      <td>16968.000000</td>\n",
              "      <td>16968.000000</td>\n",
              "      <td>16968.000000</td>\n",
              "      <td>16968.000000</td>\n",
              "      <td>16968.000000</td>\n",
              "      <td>16968.000000</td>\n",
              "      <td>16968.000000</td>\n",
              "      <td>16968.000000</td>\n",
              "      <td>16968.000000</td>\n",
              "      <td>16968.000000</td>\n",
              "      <td>16968.000000</td>\n",
              "      <td>16968.000000</td>\n",
              "      <td>16968.000000</td>\n",
              "      <td>16968.000000</td>\n",
              "    </tr>\n",
              "    <tr>\n",
              "      <th>mean</th>\n",
              "      <td>2.014695e+08</td>\n",
              "      <td>10.331473</td>\n",
              "      <td>1034.905058</td>\n",
              "      <td>215.542337</td>\n",
              "      <td>8.227091</td>\n",
              "      <td>67.020677</td>\n",
              "      <td>6.965160</td>\n",
              "      <td>79.998018</td>\n",
              "      <td>6.968278</td>\n",
              "      <td>79.997108</td>\n",
              "      <td>312.657884</td>\n",
              "      <td>2019.339816</td>\n",
              "      <td>7.950024</td>\n",
              "      <td>15.858852</td>\n",
              "      <td>2.919731</td>\n",
              "      <td>13.802746</td>\n",
              "      <td>29.486150</td>\n",
              "      <td>2019.339934</td>\n",
              "      <td>7.948845</td>\n",
              "      <td>15.859795</td>\n",
              "      <td>2.921676</td>\n",
              "      <td>14.081978</td>\n",
              "      <td>29.411363</td>\n",
              "    </tr>\n",
              "    <tr>\n",
              "      <th>std</th>\n",
              "      <td>7.453627e+06</td>\n",
              "      <td>1.721619</td>\n",
              "      <td>553.222014</td>\n",
              "      <td>218.969489</td>\n",
              "      <td>11.936970</td>\n",
              "      <td>42.750661</td>\n",
              "      <td>0.210840</td>\n",
              "      <td>0.242832</td>\n",
              "      <td>0.380253</td>\n",
              "      <td>0.360503</td>\n",
              "      <td>606.372103</td>\n",
              "      <td>0.473661</td>\n",
              "      <td>5.002891</td>\n",
              "      <td>8.844015</td>\n",
              "      <td>1.940086</td>\n",
              "      <td>4.819490</td>\n",
              "      <td>17.286925</td>\n",
              "      <td>0.473700</td>\n",
              "      <td>5.003350</td>\n",
              "      <td>8.844116</td>\n",
              "      <td>1.940758</td>\n",
              "      <td>4.881727</td>\n",
              "      <td>17.381706</td>\n",
              "    </tr>\n",
              "    <tr>\n",
              "      <th>min</th>\n",
              "      <td>1.891236e+08</td>\n",
              "      <td>0.000000</td>\n",
              "      <td>0.000000</td>\n",
              "      <td>0.000000</td>\n",
              "      <td>0.000000</td>\n",
              "      <td>0.000000</td>\n",
              "      <td>5.937600</td>\n",
              "      <td>79.819100</td>\n",
              "      <td>5.941860</td>\n",
              "      <td>45.307700</td>\n",
              "      <td>0.000000</td>\n",
              "      <td>2019.000000</td>\n",
              "      <td>1.000000</td>\n",
              "      <td>1.000000</td>\n",
              "      <td>0.000000</td>\n",
              "      <td>0.000000</td>\n",
              "      <td>0.000000</td>\n",
              "      <td>2019.000000</td>\n",
              "      <td>1.000000</td>\n",
              "      <td>1.000000</td>\n",
              "      <td>0.000000</td>\n",
              "      <td>0.000000</td>\n",
              "      <td>0.000000</td>\n",
              "    </tr>\n",
              "    <tr>\n",
              "      <th>25%</th>\n",
              "      <td>1.947342e+08</td>\n",
              "      <td>10.500000</td>\n",
              "      <td>548.000000</td>\n",
              "      <td>33.000000</td>\n",
              "      <td>0.000000</td>\n",
              "      <td>26.000000</td>\n",
              "      <td>6.864830</td>\n",
              "      <td>79.870475</td>\n",
              "      <td>6.865580</td>\n",
              "      <td>79.870100</td>\n",
              "      <td>125.500000</td>\n",
              "      <td>2019.000000</td>\n",
              "      <td>1.000000</td>\n",
              "      <td>8.000000</td>\n",
              "      <td>1.000000</td>\n",
              "      <td>10.000000</td>\n",
              "      <td>15.000000</td>\n",
              "      <td>2019.000000</td>\n",
              "      <td>1.000000</td>\n",
              "      <td>8.000000</td>\n",
              "      <td>1.000000</td>\n",
              "      <td>11.000000</td>\n",
              "      <td>14.000000</td>\n",
              "    </tr>\n",
              "    <tr>\n",
              "      <th>50%</th>\n",
              "      <td>2.013928e+08</td>\n",
              "      <td>10.500000</td>\n",
              "      <td>1009.000000</td>\n",
              "      <td>123.000000</td>\n",
              "      <td>0.115600</td>\n",
              "      <td>73.000000</td>\n",
              "      <td>6.913970</td>\n",
              "      <td>79.898600</td>\n",
              "      <td>6.915940</td>\n",
              "      <td>79.899000</td>\n",
              "      <td>211.050000</td>\n",
              "      <td>2019.000000</td>\n",
              "      <td>11.000000</td>\n",
              "      <td>16.000000</td>\n",
              "      <td>3.000000</td>\n",
              "      <td>14.000000</td>\n",
              "      <td>29.000000</td>\n",
              "      <td>2019.000000</td>\n",
              "      <td>11.000000</td>\n",
              "      <td>16.000000</td>\n",
              "      <td>3.000000</td>\n",
              "      <td>14.000000</td>\n",
              "      <td>29.000000</td>\n",
              "    </tr>\n",
              "    <tr>\n",
              "      <th>75%</th>\n",
              "      <td>2.083314e+08</td>\n",
              "      <td>10.500000</td>\n",
              "      <td>1702.836987</td>\n",
              "      <td>351.000000</td>\n",
              "      <td>14.334400</td>\n",
              "      <td>112.489510</td>\n",
              "      <td>7.042698</td>\n",
              "      <td>79.956500</td>\n",
              "      <td>7.046555</td>\n",
              "      <td>79.960000</td>\n",
              "      <td>366.205000</td>\n",
              "      <td>2020.000000</td>\n",
              "      <td>12.000000</td>\n",
              "      <td>23.000000</td>\n",
              "      <td>5.000000</td>\n",
              "      <td>18.000000</td>\n",
              "      <td>45.000000</td>\n",
              "      <td>2020.000000</td>\n",
              "      <td>12.000000</td>\n",
              "      <td>23.000000</td>\n",
              "      <td>5.000000</td>\n",
              "      <td>18.000000</td>\n",
              "      <td>44.000000</td>\n",
              "    </tr>\n",
              "    <tr>\n",
              "      <th>max</th>\n",
              "      <td>2.138173e+08</td>\n",
              "      <td>13.721437</td>\n",
              "      <td>1702.836987</td>\n",
              "      <td>628.875000</td>\n",
              "      <td>32.045122</td>\n",
              "      <td>112.489510</td>\n",
              "      <td>8.051010</td>\n",
              "      <td>81.009600</td>\n",
              "      <td>48.132000</td>\n",
              "      <td>81.009700</td>\n",
              "      <td>26945.990000</td>\n",
              "      <td>2020.000000</td>\n",
              "      <td>12.000000</td>\n",
              "      <td>31.000000</td>\n",
              "      <td>6.000000</td>\n",
              "      <td>23.000000</td>\n",
              "      <td>59.000000</td>\n",
              "      <td>2020.000000</td>\n",
              "      <td>12.000000</td>\n",
              "      <td>31.000000</td>\n",
              "      <td>6.000000</td>\n",
              "      <td>23.000000</td>\n",
              "      <td>59.000000</td>\n",
              "    </tr>\n",
              "  </tbody>\n",
              "</table>\n",
              "</div>"
            ],
            "text/plain": [
              "             tripid  additional_fare  ...  drop_time_hour  drop_time_minute\n",
              "count  1.696800e+04     16968.000000  ...    16968.000000      16968.000000\n",
              "mean   2.014695e+08        10.331473  ...       14.081978         29.411363\n",
              "std    7.453627e+06         1.721619  ...        4.881727         17.381706\n",
              "min    1.891236e+08         0.000000  ...        0.000000          0.000000\n",
              "25%    1.947342e+08        10.500000  ...       11.000000         14.000000\n",
              "50%    2.013928e+08        10.500000  ...       14.000000         29.000000\n",
              "75%    2.083314e+08        10.500000  ...       18.000000         44.000000\n",
              "max    2.138173e+08        13.721437  ...       23.000000         59.000000\n",
              "\n",
              "[8 rows x 23 columns]"
            ]
          },
          "metadata": {
            "tags": []
          },
          "execution_count": 92
        }
      ]
    },
    {
      "cell_type": "code",
      "metadata": {
        "id": "IwKNE_HAwNDD",
        "colab_type": "code",
        "colab": {
          "base_uri": "https://localhost:8080/",
          "height": 847
        },
        "outputId": "e45ad22d-9ca7-4123-840f-f264eb7e570d"
      },
      "source": [
        "train_fare.hist(bins=100, figsize=(20,15))\n",
        "train_fare.head()\n",
        "plt.show()\n"
      ],
      "execution_count": 94,
      "outputs": [
        {
          "output_type": "display_data",
          "data": {
            "image/png": "[encoded data removed]",
            "text/plain": [
              "<Figure size 1440x1080 with 25 Axes>"
            ]
          },
          "metadata": {
            "tags": [],
            "needs_background": "light"
          }
        }
      ]
    },
    {
      "cell_type": "code",
      "metadata": {
        "id": "62Aq8MH_wrNT",
        "colab_type": "code",
        "colab": {}
      },
      "source": [
        "train_fare.loc[train_fare['fare'] > 312.657884 \t \t, 'fare'] = 312.657884"
      ],
      "execution_count": 0,
      "outputs": []
    },
    {
      "cell_type": "code",
      "metadata": {
        "id": "TLSsMknmxUf7",
        "colab_type": "code",
        "colab": {
          "base_uri": "https://localhost:8080/",
          "height": 235
        },
        "outputId": "6d807a78-0e1a-4261-a872-9d487f42c58b"
      },
      "source": [
        "train_fare[\"fare\"].sort_values(ascending=False)"
      ],
      "execution_count": 100,
      "outputs": [
        {
          "output_type": "execute_result",
          "data": {
            "text/plain": [
              "4866     312.657884\n",
              "13178    312.657884\n",
              "8695     312.657884\n",
              "3262     312.657884\n",
              "8692     312.657884\n",
              "            ...    \n",
              "11687     51.600000\n",
              "3833      50.750000\n",
              "11990     50.720000\n",
              "2753      50.630000\n",
              "5908      50.480000\n",
              "Name: fare, Length: 16954, dtype: float64"
            ]
          },
          "metadata": {
            "tags": []
          },
          "execution_count": 100
        }
      ]
    },
    {
      "cell_type": "code",
      "metadata": {
        "id": "p7nYvwARxgdB",
        "colab_type": "code",
        "colab": {}
      },
      "source": [
        "train_fare = train_fare.drop(train_fare[train_fare[\"fare\"] == 0 ].index, axis=0)"
      ],
      "execution_count": 0,
      "outputs": []
    },
    {
      "cell_type": "code",
      "metadata": {
        "id": "6KADfAkdxmTT",
        "colab_type": "code",
        "colab": {
          "base_uri": "https://localhost:8080/",
          "height": 580
        },
        "outputId": "5e694c35-446e-4808-c6f9-415c22c9dc40"
      },
      "source": [
        "train_fare.info()"
      ],
      "execution_count": 99,
      "outputs": [
        {
          "output_type": "stream",
          "text": [
            "<class 'pandas.core.frame.DataFrame'>\n",
            "Int64Index: 16954 entries, 0 to 17175\n",
            "Data columns (total 24 columns):\n",
            " #   Column                     Non-Null Count  Dtype  \n",
            "---  ------                     --------------  -----  \n",
            " 0   tripid                     16954 non-null  int64  \n",
            " 1   additional_fare            16954 non-null  float64\n",
            " 2   duration                   16954 non-null  float64\n",
            " 3   meter_waiting              16954 non-null  float64\n",
            " 4   meter_waiting_fare         16954 non-null  float64\n",
            " 5   meter_waiting_till_pickup  16954 non-null  float64\n",
            " 6   pick_lat                   16954 non-null  float64\n",
            " 7   pick_lon                   16954 non-null  float64\n",
            " 8   drop_lat                   16954 non-null  float64\n",
            " 9   drop_lon                   16954 non-null  float64\n",
            " 10  fare                       16954 non-null  float64\n",
            " 11  label                      16954 non-null  object \n",
            " 12  pickup_time_year           16954 non-null  int64  \n",
            " 13  pickup_time_month          16954 non-null  int64  \n",
            " 14  pickup_time_date           16954 non-null  int64  \n",
            " 15  pickup_time_day            16954 non-null  int64  \n",
            " 16  pickup_time_hour           16954 non-null  int64  \n",
            " 17  pickup_time_minute         16954 non-null  int64  \n",
            " 18  drop_time_year             16954 non-null  int64  \n",
            " 19  drop_time_month            16954 non-null  int64  \n",
            " 20  drop_time_date             16954 non-null  int64  \n",
            " 21  drop_time_day              16954 non-null  int64  \n",
            " 22  drop_time_hour             16954 non-null  int64  \n",
            " 23  drop_time_minute           16954 non-null  int64  \n",
            "dtypes: float64(10), int64(13), object(1)\n",
            "memory usage: 3.2+ MB\n"
          ],
          "name": "stdout"
        }
      ]
    },
    {
      "cell_type": "code",
      "metadata": {
        "id": "WF8S8exqxosP",
        "colab_type": "code",
        "colab": {
          "base_uri": "https://localhost:8080/",
          "height": 69
        },
        "outputId": "764bfe04-f5d9-481e-bb10-92b1854a582b"
      },
      "source": [
        "train_fare[train_fare['drop_lon']<-180]\n",
        "train_fare[train_fare['drop_lon']>180]"
      ],
      "execution_count": 104,
      "outputs": [
        {
          "output_type": "execute_result",
          "data": {
            "text/html": [
              "<div>\n",
              "<style scoped>\n",
              "    .dataframe tbody tr th:only-of-type {\n",
              "        vertical-align: middle;\n",
              "    }\n",
              "\n",
              "    .dataframe tbody tr th {\n",
              "        vertical-align: top;\n",
              "    }\n",
              "\n",
              "    .dataframe thead th {\n",
              "        text-align: right;\n",
              "    }\n",
              "</style>\n",
              "<table border=\"1\" class=\"dataframe\">\n",
              "  <thead>\n",
              "    <tr style=\"text-align: right;\">\n",
              "      <th></th>\n",
              "      <th>tripid</th>\n",
              "      <th>additional_fare</th>\n",
              "      <th>duration</th>\n",
              "      <th>meter_waiting</th>\n",
              "      <th>meter_waiting_fare</th>\n",
              "      <th>meter_waiting_till_pickup</th>\n",
              "      <th>pick_lat</th>\n",
              "      <th>pick_lon</th>\n",
              "      <th>drop_lat</th>\n",
              "      <th>drop_lon</th>\n",
              "      <th>fare</th>\n",
              "      <th>label</th>\n",
              "      <th>pickup_time_year</th>\n",
              "      <th>pickup_time_month</th>\n",
              "      <th>pickup_time_date</th>\n",
              "      <th>pickup_time_day</th>\n",
              "      <th>pickup_time_hour</th>\n",
              "      <th>pickup_time_minute</th>\n",
              "      <th>drop_time_year</th>\n",
              "      <th>drop_time_month</th>\n",
              "      <th>drop_time_date</th>\n",
              "      <th>drop_time_day</th>\n",
              "      <th>drop_time_hour</th>\n",
              "      <th>drop_time_minute</th>\n",
              "    </tr>\n",
              "  </thead>\n",
              "  <tbody>\n",
              "  </tbody>\n",
              "</table>\n",
              "</div>"
            ],
            "text/plain": [
              "Empty DataFrame\n",
              "Columns: [tripid, additional_fare, duration, meter_waiting, meter_waiting_fare, meter_waiting_till_pickup, pick_lat, pick_lon, drop_lat, drop_lon, fare, label, pickup_time_year, pickup_time_month, pickup_time_date, pickup_time_day, pickup_time_hour, pickup_time_minute, drop_time_year, drop_time_month, drop_time_date, drop_time_day, drop_time_hour, drop_time_minute]\n",
              "Index: []"
            ]
          },
          "metadata": {
            "tags": []
          },
          "execution_count": 104
        }
      ]
    },
    {
      "cell_type": "code",
      "metadata": {
        "id": "L8rIKD4myRki",
        "colab_type": "code",
        "colab": {
          "base_uri": "https://localhost:8080/",
          "height": 471
        },
        "outputId": "11450b9c-307e-459a-a8fe-b6d3e4283cb9"
      },
      "source": [
        "train_fare.isnull().sum()"
      ],
      "execution_count": 105,
      "outputs": [
        {
          "output_type": "execute_result",
          "data": {
            "text/plain": [
              "tripid                       0\n",
              "additional_fare              0\n",
              "duration                     0\n",
              "meter_waiting                0\n",
              "meter_waiting_fare           0\n",
              "meter_waiting_till_pickup    0\n",
              "pick_lat                     0\n",
              "pick_lon                     0\n",
              "drop_lat                     0\n",
              "drop_lon                     0\n",
              "fare                         0\n",
              "label                        0\n",
              "pickup_time_year             0\n",
              "pickup_time_month            0\n",
              "pickup_time_date             0\n",
              "pickup_time_day              0\n",
              "pickup_time_hour             0\n",
              "pickup_time_minute           0\n",
              "drop_time_year               0\n",
              "drop_time_month              0\n",
              "drop_time_date               0\n",
              "drop_time_day                0\n",
              "drop_time_hour               0\n",
              "drop_time_minute             0\n",
              "dtype: int64"
            ]
          },
          "metadata": {
            "tags": []
          },
          "execution_count": 105
        }
      ]
    },
    {
      "cell_type": "code",
      "metadata": {
        "id": "zeRF_YENyjos",
        "colab_type": "code",
        "colab": {}
      },
      "source": [
        "from math import radians, cos, sin, asin, sqrt\n",
        "\n",
        "def haversine(a):\n",
        "    lon1=a[0]\n",
        "    lat1=a[1]\n",
        "    lon2=a[2]\n",
        "    lat2=a[3]\n",
        "    \"\"\"\n",
        "    Calculate the great circle distance between two points \n",
        "    on the earth (specified in decimal degrees)\n",
        "    \"\"\"\n",
        "    # convert decimal degrees to radians \n",
        "    lon1, lat1, lon2, lat2 = map(radians, [lon1, lat1, lon2, lat2])\n",
        "    \n",
        "    # haversine formula \n",
        "    dlon = lon2 - lon1 \n",
        "    dlat = lat2 - lat1 \n",
        "    a = sin(dlat/2)**2 + cos(lat1) * cos(lat2) * sin(dlon/2)**2\n",
        "    c =  2 * asin(sqrt(a))\n",
        "    # Radius of earth in kilometers is 6371\n",
        "    km = 6371* c\n",
        "    return km\n"
      ],
      "execution_count": 0,
      "outputs": []
    },
    {
      "cell_type": "code",
      "metadata": {
        "id": "THQAGu8CyvUB",
        "colab_type": "code",
        "colab": {
          "base_uri": "https://localhost:8080/",
          "height": 380
        },
        "outputId": "29b0641b-4842-4255-beeb-d5f2335f1c65"
      },
      "source": [
        "test_fare.info()"
      ],
      "execution_count": 110,
      "outputs": [
        {
          "output_type": "stream",
          "text": [
            "<class 'pandas.core.frame.DataFrame'>\n",
            "RangeIndex: 8576 entries, 0 to 8575\n",
            "Data columns (total 13 columns):\n",
            " #   Column                     Non-Null Count  Dtype  \n",
            "---  ------                     --------------  -----  \n",
            " 0   tripid                     8576 non-null   int64  \n",
            " 1   additional_fare            8576 non-null   float64\n",
            " 2   duration                   8576 non-null   int64  \n",
            " 3   meter_waiting              8576 non-null   int64  \n",
            " 4   meter_waiting_fare         8576 non-null   float64\n",
            " 5   meter_waiting_till_pickup  8576 non-null   int64  \n",
            " 6   pickup_time                8576 non-null   object \n",
            " 7   drop_time                  8576 non-null   object \n",
            " 8   pick_lat                   8576 non-null   float64\n",
            " 9   pick_lon                   8576 non-null   float64\n",
            " 10  drop_lat                   8576 non-null   float64\n",
            " 11  drop_lon                   8576 non-null   float64\n",
            " 12  fare                       8576 non-null   float64\n",
            "dtypes: float64(7), int64(4), object(2)\n",
            "memory usage: 871.1+ KB\n"
          ],
          "name": "stdout"
        }
      ]
    },
    {
      "cell_type": "code",
      "metadata": {
        "id": "vFPqEd9KzP9l",
        "colab_type": "code",
        "colab": {
          "base_uri": "https://localhost:8080/",
          "height": 320
        },
        "outputId": "f671b406-6472-4b64-d472-7c1c9ff45625"
      },
      "source": [
        "test_fare.describe()"
      ],
      "execution_count": 111,
      "outputs": [
        {
          "output_type": "execute_result",
          "data": {
            "text/html": [
              "<div>\n",
              "<style scoped>\n",
              "    .dataframe tbody tr th:only-of-type {\n",
              "        vertical-align: middle;\n",
              "    }\n",
              "\n",
              "    .dataframe tbody tr th {\n",
              "        vertical-align: top;\n",
              "    }\n",
              "\n",
              "    .dataframe thead th {\n",
              "        text-align: right;\n",
              "    }\n",
              "</style>\n",
              "<table border=\"1\" class=\"dataframe\">\n",
              "  <thead>\n",
              "    <tr style=\"text-align: right;\">\n",
              "      <th></th>\n",
              "      <th>tripid</th>\n",
              "      <th>additional_fare</th>\n",
              "      <th>duration</th>\n",
              "      <th>meter_waiting</th>\n",
              "      <th>meter_waiting_fare</th>\n",
              "      <th>meter_waiting_till_pickup</th>\n",
              "      <th>pick_lat</th>\n",
              "      <th>pick_lon</th>\n",
              "      <th>drop_lat</th>\n",
              "      <th>drop_lon</th>\n",
              "      <th>fare</th>\n",
              "    </tr>\n",
              "  </thead>\n",
              "  <tbody>\n",
              "    <tr>\n",
              "      <th>count</th>\n",
              "      <td>8.576000e+03</td>\n",
              "      <td>8576.000000</td>\n",
              "      <td>8576.000000</td>\n",
              "      <td>8576.000000</td>\n",
              "      <td>8576.000000</td>\n",
              "      <td>8576.000000</td>\n",
              "      <td>8576.000000</td>\n",
              "      <td>8576.000000</td>\n",
              "      <td>8576.000000</td>\n",
              "      <td>8576.000000</td>\n",
              "      <td>8576.000000</td>\n",
              "    </tr>\n",
              "    <tr>\n",
              "      <th>mean</th>\n",
              "      <td>2.180067e+08</td>\n",
              "      <td>11.088095</td>\n",
              "      <td>1541.590485</td>\n",
              "      <td>508.502099</td>\n",
              "      <td>24.671655</td>\n",
              "      <td>119.863106</td>\n",
              "      <td>6.969246</td>\n",
              "      <td>80.008728</td>\n",
              "      <td>6.970008</td>\n",
              "      <td>80.010145</td>\n",
              "      <td>293.278057</td>\n",
              "    </tr>\n",
              "    <tr>\n",
              "      <th>std</th>\n",
              "      <td>2.789252e+06</td>\n",
              "      <td>5.359602</td>\n",
              "      <td>5952.458574</td>\n",
              "      <td>5784.005855</td>\n",
              "      <td>333.515641</td>\n",
              "      <td>793.233190</td>\n",
              "      <td>0.217809</td>\n",
              "      <td>0.251873</td>\n",
              "      <td>0.218826</td>\n",
              "      <td>0.252229</td>\n",
              "      <td>436.730282</td>\n",
              "    </tr>\n",
              "    <tr>\n",
              "      <th>min</th>\n",
              "      <td>2.132846e+08</td>\n",
              "      <td>0.000000</td>\n",
              "      <td>0.000000</td>\n",
              "      <td>0.000000</td>\n",
              "      <td>0.000000</td>\n",
              "      <td>0.000000</td>\n",
              "      <td>5.943130</td>\n",
              "      <td>79.817700</td>\n",
              "      <td>5.936600</td>\n",
              "      <td>79.818000</td>\n",
              "      <td>0.000000</td>\n",
              "    </tr>\n",
              "    <tr>\n",
              "      <th>25%</th>\n",
              "      <td>2.156247e+08</td>\n",
              "      <td>10.500000</td>\n",
              "      <td>540.000000</td>\n",
              "      <td>30.000000</td>\n",
              "      <td>0.000000</td>\n",
              "      <td>26.000000</td>\n",
              "      <td>6.864810</td>\n",
              "      <td>79.871600</td>\n",
              "      <td>6.864950</td>\n",
              "      <td>79.871300</td>\n",
              "      <td>126.077500</td>\n",
              "    </tr>\n",
              "    <tr>\n",
              "      <th>50%</th>\n",
              "      <td>2.179006e+08</td>\n",
              "      <td>10.500000</td>\n",
              "      <td>982.500000</td>\n",
              "      <td>116.000000</td>\n",
              "      <td>0.000000</td>\n",
              "      <td>72.000000</td>\n",
              "      <td>6.913605</td>\n",
              "      <td>79.900500</td>\n",
              "      <td>6.915460</td>\n",
              "      <td>79.902250</td>\n",
              "      <td>203.950000</td>\n",
              "    </tr>\n",
              "    <tr>\n",
              "      <th>75%</th>\n",
              "      <td>2.203904e+08</td>\n",
              "      <td>10.500000</td>\n",
              "      <td>1723.000000</td>\n",
              "      <td>336.250000</td>\n",
              "      <td>11.744200</td>\n",
              "      <td>138.000000</td>\n",
              "      <td>7.068875</td>\n",
              "      <td>79.963225</td>\n",
              "      <td>7.073505</td>\n",
              "      <td>79.967825</td>\n",
              "      <td>344.075000</td>\n",
              "    </tr>\n",
              "    <tr>\n",
              "      <th>max</th>\n",
              "      <td>2.228607e+08</td>\n",
              "      <td>160.500000</td>\n",
              "      <td>447230.000000</td>\n",
              "      <td>446934.000000</td>\n",
              "      <td>25760.361800</td>\n",
              "      <td>55571.000000</td>\n",
              "      <td>8.425010</td>\n",
              "      <td>80.776400</td>\n",
              "      <td>8.421730</td>\n",
              "      <td>80.805500</td>\n",
              "      <td>26844.330000</td>\n",
              "    </tr>\n",
              "  </tbody>\n",
              "</table>\n",
              "</div>"
            ],
            "text/plain": [
              "             tripid  additional_fare  ...     drop_lon          fare\n",
              "count  8.576000e+03      8576.000000  ...  8576.000000   8576.000000\n",
              "mean   2.180067e+08        11.088095  ...    80.010145    293.278057\n",
              "std    2.789252e+06         5.359602  ...     0.252229    436.730282\n",
              "min    2.132846e+08         0.000000  ...    79.818000      0.000000\n",
              "25%    2.156247e+08        10.500000  ...    79.871300    126.077500\n",
              "50%    2.179006e+08        10.500000  ...    79.902250    203.950000\n",
              "75%    2.203904e+08        10.500000  ...    79.967825    344.075000\n",
              "max    2.228607e+08       160.500000  ...    80.805500  26844.330000\n",
              "\n",
              "[8 rows x 11 columns]"
            ]
          },
          "metadata": {
            "tags": []
          },
          "execution_count": 111
        }
      ]
    },
    {
      "cell_type": "code",
      "metadata": {
        "id": "ZulhAJv-0eYY",
        "colab_type": "code",
        "colab": {}
      },
      "source": [
        "test_fare.loc[test_fare['additional_fare'] > 11.088095, 'additional_fare'] = 11.088095\n",
        "test_fare.loc[test_fare['duration'] >1702.836987, 'duration'] = 1702.836987\n",
        "test_fare.loc[test_fare['meter_waiting'] > 24.671655 \t, 'meter_waiting'] = 24.671655\n",
        "test_fare.loc[test_fare['meter_waiting_fare'] > 32.045122 \t \t, 'meter_waiting_fare'] = 32.045122\n",
        "test_fare.loc[test_fare['meter_waiting_till_pickup'] > 119.863106 \t \t, 'meter_waiting_till_pickup'] = 119.863106\n"
      ],
      "execution_count": 0,
      "outputs": []
    },
    {
      "cell_type": "code",
      "metadata": {
        "id": "OFbyEoqV1AvD",
        "colab_type": "code",
        "colab": {
          "base_uri": "https://localhost:8080/",
          "height": 313
        },
        "outputId": "051deba6-8d43-4745-b4d3-d507941d519c"
      },
      "source": [
        "test_fare.head()"
      ],
      "execution_count": 114,
      "outputs": [
        {
          "output_type": "execute_result",
          "data": {
            "text/html": [
              "<div>\n",
              "<style scoped>\n",
              "    .dataframe tbody tr th:only-of-type {\n",
              "        vertical-align: middle;\n",
              "    }\n",
              "\n",
              "    .dataframe tbody tr th {\n",
              "        vertical-align: top;\n",
              "    }\n",
              "\n",
              "    .dataframe thead th {\n",
              "        text-align: right;\n",
              "    }\n",
              "</style>\n",
              "<table border=\"1\" class=\"dataframe\">\n",
              "  <thead>\n",
              "    <tr style=\"text-align: right;\">\n",
              "      <th></th>\n",
              "      <th>tripid</th>\n",
              "      <th>additional_fare</th>\n",
              "      <th>duration</th>\n",
              "      <th>meter_waiting</th>\n",
              "      <th>meter_waiting_fare</th>\n",
              "      <th>meter_waiting_till_pickup</th>\n",
              "      <th>pickup_time</th>\n",
              "      <th>drop_time</th>\n",
              "      <th>pick_lat</th>\n",
              "      <th>pick_lon</th>\n",
              "      <th>drop_lat</th>\n",
              "      <th>drop_lon</th>\n",
              "      <th>fare</th>\n",
              "    </tr>\n",
              "  </thead>\n",
              "  <tbody>\n",
              "    <tr>\n",
              "      <th>0</th>\n",
              "      <td>213284604</td>\n",
              "      <td>10.5</td>\n",
              "      <td>924.000000</td>\n",
              "      <td>24.671655</td>\n",
              "      <td>2.4486</td>\n",
              "      <td>119.863106</td>\n",
              "      <td>2/1/2020 0:38</td>\n",
              "      <td>2/1/2020 0:53</td>\n",
              "      <td>6.83454</td>\n",
              "      <td>79.8750</td>\n",
              "      <td>6.77490</td>\n",
              "      <td>79.8840</td>\n",
              "      <td>289.27</td>\n",
              "    </tr>\n",
              "    <tr>\n",
              "      <th>1</th>\n",
              "      <td>213286352</td>\n",
              "      <td>10.5</td>\n",
              "      <td>1702.836987</td>\n",
              "      <td>20.000000</td>\n",
              "      <td>0.0000</td>\n",
              "      <td>91.000000</td>\n",
              "      <td>2/1/2020 1:02</td>\n",
              "      <td>2/1/2020 2:13</td>\n",
              "      <td>6.91168</td>\n",
              "      <td>79.8723</td>\n",
              "      <td>6.55091</td>\n",
              "      <td>79.9706</td>\n",
              "      <td>1912.70</td>\n",
              "    </tr>\n",
              "    <tr>\n",
              "      <th>2</th>\n",
              "      <td>213293973</td>\n",
              "      <td>10.5</td>\n",
              "      <td>1552.000000</td>\n",
              "      <td>24.671655</td>\n",
              "      <td>2.6588</td>\n",
              "      <td>23.000000</td>\n",
              "      <td>2/1/2020 5:02</td>\n",
              "      <td>2/1/2020 5:28</td>\n",
              "      <td>6.92145</td>\n",
              "      <td>79.8478</td>\n",
              "      <td>6.90539</td>\n",
              "      <td>79.8989</td>\n",
              "      <td>394.00</td>\n",
              "    </tr>\n",
              "    <tr>\n",
              "      <th>3</th>\n",
              "      <td>213294622</td>\n",
              "      <td>10.5</td>\n",
              "      <td>462.000000</td>\n",
              "      <td>16.000000</td>\n",
              "      <td>0.0000</td>\n",
              "      <td>119.863106</td>\n",
              "      <td>2/1/2020 5:30</td>\n",
              "      <td>2/1/2020 5:38</td>\n",
              "      <td>6.77433</td>\n",
              "      <td>79.9416</td>\n",
              "      <td>6.80401</td>\n",
              "      <td>79.9407</td>\n",
              "      <td>154.32</td>\n",
              "    </tr>\n",
              "    <tr>\n",
              "      <th>4</th>\n",
              "      <td>213298687</td>\n",
              "      <td>10.5</td>\n",
              "      <td>814.000000</td>\n",
              "      <td>24.671655</td>\n",
              "      <td>12.3692</td>\n",
              "      <td>69.000000</td>\n",
              "      <td>2/1/2020 7:00</td>\n",
              "      <td>2/1/2020 7:14</td>\n",
              "      <td>6.97968</td>\n",
              "      <td>79.9130</td>\n",
              "      <td>6.98875</td>\n",
              "      <td>79.8914</td>\n",
              "      <td>147.47</td>\n",
              "    </tr>\n",
              "  </tbody>\n",
              "</table>\n",
              "</div>"
            ],
            "text/plain": [
              "      tripid  additional_fare     duration  ...  drop_lat  drop_lon     fare\n",
              "0  213284604             10.5   924.000000  ...   6.77490   79.8840   289.27\n",
              "1  213286352             10.5  1702.836987  ...   6.55091   79.9706  1912.70\n",
              "2  213293973             10.5  1552.000000  ...   6.90539   79.8989   394.00\n",
              "3  213294622             10.5   462.000000  ...   6.80401   79.9407   154.32\n",
              "4  213298687             10.5   814.000000  ...   6.98875   79.8914   147.47\n",
              "\n",
              "[5 rows x 13 columns]"
            ]
          },
          "metadata": {
            "tags": []
          },
          "execution_count": 114
        }
      ]
    },
    {
      "cell_type": "code",
      "metadata": {
        "id": "bWgsq8821TBg",
        "colab_type": "code",
        "colab": {}
      },
      "source": [
        "test_fare['pickup_time'] =  pd.to_datetime(test_fare['pickup_time'], format='%m/%d/%Y %H:%M')\n",
        "test_fare['drop_time'] =  pd.to_datetime(test_fare['drop_time'], format='%m/%d/%Y %H:%M')"
      ],
      "execution_count": 0,
      "outputs": []
    },
    {
      "cell_type": "code",
      "metadata": {
        "id": "3y27g7ZS1mv-",
        "colab_type": "code",
        "colab": {}
      },
      "source": [
        "test_fare['pickup_time_year']=test_fare['pickup_time'].dt.year\n",
        "test_fare['pickup_time_month']=test_fare['pickup_time'].dt.month\n",
        "test_fare['pickup_time_date']=test_fare['pickup_time'].dt.day\n",
        "test_fare['pickup_time_day']=test_fare['pickup_time'].dt.dayofweek\n",
        "test_fare['pickup_time_hour']=test_fare['pickup_time'].dt.hour\n",
        "test_fare['pickup_time_minute']=test_fare['pickup_time'].dt.minute\n",
        "test_fare['drop_time_year']=test_fare['drop_time'].dt.year\n",
        "test_fare['drop_time_month']=test_fare['drop_time'].dt.month\n",
        "test_fare['drop_time_date']=test_fare['drop_time'].dt.day\n",
        "test_fare['drop_time_day']=test_fare['drop_time'].dt.dayofweek\n",
        "test_fare['drop_time_hour']=test_fare['drop_time'].dt.hour\n",
        "test_fare['drop_time_minute']=test_fare['drop_time'].dt.minute"
      ],
      "execution_count": 0,
      "outputs": []
    },
    {
      "cell_type": "code",
      "metadata": {
        "id": "_XHrZbcH1tgG",
        "colab_type": "code",
        "colab": {}
      },
      "source": [
        "test_fare=test_fare.drop(columns=\"pickup_time\")\n",
        "test_fare=test_fare.drop(columns=\"drop_time\")\n"
      ],
      "execution_count": 0,
      "outputs": []
    },
    {
      "cell_type": "code",
      "metadata": {
        "id": "AF9H-uJL12SC",
        "colab_type": "code",
        "colab": {
          "base_uri": "https://localhost:8080/",
          "height": 35
        },
        "outputId": "eeffeeb0-58fb-41f4-ca81-6dd69adfb9b1"
      },
      "source": [
        "test_fare.shape"
      ],
      "execution_count": 119,
      "outputs": [
        {
          "output_type": "execute_result",
          "data": {
            "text/plain": [
              "(8576, 23)"
            ]
          },
          "metadata": {
            "tags": []
          },
          "execution_count": 119
        }
      ]
    },
    {
      "cell_type": "code",
      "metadata": {
        "id": "VIN7A9rR14wj",
        "colab_type": "code",
        "colab": {
          "base_uri": "https://localhost:8080/",
          "height": 35
        },
        "outputId": "82033d19-17ce-439d-c7fa-fee24307e871"
      },
      "source": [
        "train_fare.shape"
      ],
      "execution_count": 120,
      "outputs": [
        {
          "output_type": "execute_result",
          "data": {
            "text/plain": [
              "(16954, 24)"
            ]
          },
          "metadata": {
            "tags": []
          },
          "execution_count": 120
        }
      ]
    },
    {
      "cell_type": "code",
      "metadata": {
        "id": "8-xAsDJa18es",
        "colab_type": "code",
        "colab": {
          "base_uri": "https://localhost:8080/",
          "height": 1000
        },
        "outputId": "9d261c8d-a74e-4dd6-8221-0b40da19b67b"
      },
      "source": [
        "train_fare.info()\n",
        "test_fare.info()"
      ],
      "execution_count": 121,
      "outputs": [
        {
          "output_type": "stream",
          "text": [
            "<class 'pandas.core.frame.DataFrame'>\n",
            "Int64Index: 16954 entries, 0 to 17175\n",
            "Data columns (total 24 columns):\n",
            " #   Column                     Non-Null Count  Dtype  \n",
            "---  ------                     --------------  -----  \n",
            " 0   tripid                     16954 non-null  int64  \n",
            " 1   additional_fare            16954 non-null  float64\n",
            " 2   duration                   16954 non-null  float64\n",
            " 3   meter_waiting              16954 non-null  float64\n",
            " 4   meter_waiting_fare         16954 non-null  float64\n",
            " 5   meter_waiting_till_pickup  16954 non-null  float64\n",
            " 6   pick_lat                   16954 non-null  float64\n",
            " 7   pick_lon                   16954 non-null  float64\n",
            " 8   drop_lat                   16954 non-null  float64\n",
            " 9   drop_lon                   16954 non-null  float64\n",
            " 10  fare                       16954 non-null  float64\n",
            " 11  label                      16954 non-null  object \n",
            " 12  pickup_time_year           16954 non-null  int64  \n",
            " 13  pickup_time_month          16954 non-null  int64  \n",
            " 14  pickup_time_date           16954 non-null  int64  \n",
            " 15  pickup_time_day            16954 non-null  int64  \n",
            " 16  pickup_time_hour           16954 non-null  int64  \n",
            " 17  pickup_time_minute         16954 non-null  int64  \n",
            " 18  drop_time_year             16954 non-null  int64  \n",
            " 19  drop_time_month            16954 non-null  int64  \n",
            " 20  drop_time_date             16954 non-null  int64  \n",
            " 21  drop_time_day              16954 non-null  int64  \n",
            " 22  drop_time_hour             16954 non-null  int64  \n",
            " 23  drop_time_minute           16954 non-null  int64  \n",
            "dtypes: float64(10), int64(13), object(1)\n",
            "memory usage: 3.2+ MB\n",
            "<class 'pandas.core.frame.DataFrame'>\n",
            "RangeIndex: 8576 entries, 0 to 8575\n",
            "Data columns (total 23 columns):\n",
            " #   Column                     Non-Null Count  Dtype  \n",
            "---  ------                     --------------  -----  \n",
            " 0   tripid                     8576 non-null   int64  \n",
            " 1   additional_fare            8576 non-null   float64\n",
            " 2   duration                   8576 non-null   float64\n",
            " 3   meter_waiting              8576 non-null   float64\n",
            " 4   meter_waiting_fare         8576 non-null   float64\n",
            " 5   meter_waiting_till_pickup  8576 non-null   float64\n",
            " 6   pick_lat                   8576 non-null   float64\n",
            " 7   pick_lon                   8576 non-null   float64\n",
            " 8   drop_lat                   8576 non-null   float64\n",
            " 9   drop_lon                   8576 non-null   float64\n",
            " 10  fare                       8576 non-null   float64\n",
            " 11  pickup_time_year           8576 non-null   int64  \n",
            " 12  pickup_time_month          8576 non-null   int64  \n",
            " 13  pickup_time_date           8576 non-null   int64  \n",
            " 14  pickup_time_day            8576 non-null   int64  \n",
            " 15  pickup_time_hour           8576 non-null   int64  \n",
            " 16  pickup_time_minute         8576 non-null   int64  \n",
            " 17  drop_time_year             8576 non-null   int64  \n",
            " 18  drop_time_month            8576 non-null   int64  \n",
            " 19  drop_time_date             8576 non-null   int64  \n",
            " 20  drop_time_day              8576 non-null   int64  \n",
            " 21  drop_time_hour             8576 non-null   int64  \n",
            " 22  drop_time_minute           8576 non-null   int64  \n",
            "dtypes: float64(10), int64(13)\n",
            "memory usage: 1.5 MB\n"
          ],
          "name": "stdout"
        }
      ]
    },
    {
      "cell_type": "code",
      "metadata": {
        "id": "f_jnEf-02C4z",
        "colab_type": "code",
        "colab": {}
      },
      "source": [
        "train_fare['distance'] = train_fare[['pick_lon','pick_lat','drop_lon','drop_lat']].apply(haversine,axis=1)\n",
        "test_fare['distance'] = test_fare[['pick_lon','pick_lat','drop_lon','drop_lat']].apply(haversine,axis=1)\n"
      ],
      "execution_count": 0,
      "outputs": []
    },
    {
      "cell_type": "code",
      "metadata": {
        "id": "tEsJiVxx2gca",
        "colab_type": "code",
        "colab": {}
      },
      "source": [
        "test_fare=test_fare.drop(columns=\"pick_lat\")\n",
        "test_fare=test_fare.drop(columns=\"pick_lon\")\n",
        "test_fare=test_fare.drop(columns=\"drop_lon\")\n",
        "test_fare=test_fare.drop(columns=\"drop_lat\")\n",
        "\n",
        "train_fare=train_fare.drop(columns=\"pick_lat\")\n",
        "train_fare=train_fare.drop(columns=\"pick_lon\")\n",
        "train_fare=train_fare.drop(columns=\"drop_lon\")\n",
        "train_fare=train_fare.drop(columns=\"drop_lat\")\n",
        "\n",
        "\n",
        "\n"
      ],
      "execution_count": 0,
      "outputs": []
    },
    {
      "cell_type": "code",
      "metadata": {
        "id": "Y9b6XF2Y2jaq",
        "colab_type": "code",
        "colab": {
          "base_uri": "https://localhost:8080/",
          "height": 1000
        },
        "outputId": "6e8ea000-e428-4a24-9674-a0e5ada856c5"
      },
      "source": [
        "test_fare.info()\n",
        "train_fare.info()"
      ],
      "execution_count": 125,
      "outputs": [
        {
          "output_type": "stream",
          "text": [
            "<class 'pandas.core.frame.DataFrame'>\n",
            "RangeIndex: 8576 entries, 0 to 8575\n",
            "Data columns (total 20 columns):\n",
            " #   Column                     Non-Null Count  Dtype  \n",
            "---  ------                     --------------  -----  \n",
            " 0   tripid                     8576 non-null   int64  \n",
            " 1   additional_fare            8576 non-null   float64\n",
            " 2   duration                   8576 non-null   float64\n",
            " 3   meter_waiting              8576 non-null   float64\n",
            " 4   meter_waiting_fare         8576 non-null   float64\n",
            " 5   meter_waiting_till_pickup  8576 non-null   float64\n",
            " 6   fare                       8576 non-null   float64\n",
            " 7   pickup_time_year           8576 non-null   int64  \n",
            " 8   pickup_time_month          8576 non-null   int64  \n",
            " 9   pickup_time_date           8576 non-null   int64  \n",
            " 10  pickup_time_day            8576 non-null   int64  \n",
            " 11  pickup_time_hour           8576 non-null   int64  \n",
            " 12  pickup_time_minute         8576 non-null   int64  \n",
            " 13  drop_time_year             8576 non-null   int64  \n",
            " 14  drop_time_month            8576 non-null   int64  \n",
            " 15  drop_time_date             8576 non-null   int64  \n",
            " 16  drop_time_day              8576 non-null   int64  \n",
            " 17  drop_time_hour             8576 non-null   int64  \n",
            " 18  drop_time_minute           8576 non-null   int64  \n",
            " 19  distance                   8576 non-null   float64\n",
            "dtypes: float64(7), int64(13)\n",
            "memory usage: 1.3 MB\n",
            "<class 'pandas.core.frame.DataFrame'>\n",
            "Int64Index: 16954 entries, 0 to 17175\n",
            "Data columns (total 21 columns):\n",
            " #   Column                     Non-Null Count  Dtype  \n",
            "---  ------                     --------------  -----  \n",
            " 0   tripid                     16954 non-null  int64  \n",
            " 1   additional_fare            16954 non-null  float64\n",
            " 2   duration                   16954 non-null  float64\n",
            " 3   meter_waiting              16954 non-null  float64\n",
            " 4   meter_waiting_fare         16954 non-null  float64\n",
            " 5   meter_waiting_till_pickup  16954 non-null  float64\n",
            " 6   fare                       16954 non-null  float64\n",
            " 7   label                      16954 non-null  object \n",
            " 8   pickup_time_year           16954 non-null  int64  \n",
            " 9   pickup_time_month          16954 non-null  int64  \n",
            " 10  pickup_time_date           16954 non-null  int64  \n",
            " 11  pickup_time_day            16954 non-null  int64  \n",
            " 12  pickup_time_hour           16954 non-null  int64  \n",
            " 13  pickup_time_minute         16954 non-null  int64  \n",
            " 14  drop_time_year             16954 non-null  int64  \n",
            " 15  drop_time_month            16954 non-null  int64  \n",
            " 16  drop_time_date             16954 non-null  int64  \n",
            " 17  drop_time_day              16954 non-null  int64  \n",
            " 18  drop_time_hour             16954 non-null  int64  \n",
            " 19  drop_time_minute           16954 non-null  int64  \n",
            " 20  distance                   16954 non-null  float64\n",
            "dtypes: float64(7), int64(13), object(1)\n",
            "memory usage: 2.8+ MB\n"
          ],
          "name": "stdout"
        }
      ]
    },
    {
      "cell_type": "code",
      "metadata": {
        "id": "OWEtjkzP29Iq",
        "colab_type": "code",
        "colab": {
          "base_uri": "https://localhost:8080/",
          "height": 235
        },
        "outputId": "fcc90f9c-27dd-43c3-a0f2-5e9cf42b2c3d"
      },
      "source": [
        "train_fare['lable_info']=test_fare.loc[test_fare['additional_fare'] > 11.088095, 'additional_fare'] = 11.088095\n",
        "\n"
      ],
      "execution_count": 137,
      "outputs": [
        {
          "output_type": "execute_result",
          "data": {
            "text/plain": [
              "0        correct\n",
              "1        correct\n",
              "2        correct\n",
              "3        correct\n",
              "5        correct\n",
              "          ...   \n",
              "17171    correct\n",
              "17172    correct\n",
              "17173    correct\n",
              "17174    correct\n",
              "17175    correct\n",
              "Name: label, Length: 16954, dtype: object"
            ]
          },
          "metadata": {
            "tags": []
          },
          "execution_count": 137
        }
      ]
    },
    {
      "cell_type": "code",
      "metadata": {
        "id": "NDyQJi_m3FpI",
        "colab_type": "code",
        "colab": {
          "base_uri": "https://localhost:8080/",
          "height": 417
        },
        "outputId": "3d140c68-dcdb-4c3d-9888-429653a3ab5a"
      },
      "source": [
        "train_fare.nunique()"
      ],
      "execution_count": 129,
      "outputs": [
        {
          "output_type": "execute_result",
          "data": {
            "text/plain": [
              "tripid                       16951\n",
              "additional_fare                  5\n",
              "duration                      1672\n",
              "meter_waiting                  629\n",
              "meter_waiting_fare            1910\n",
              "meter_waiting_till_pickup      114\n",
              "fare                          8757\n",
              "label                            2\n",
              "pickup_time_year                 2\n",
              "pickup_time_month                3\n",
              "pickup_time_date                31\n",
              "pickup_time_day                  7\n",
              "pickup_time_hour                24\n",
              "pickup_time_minute              60\n",
              "drop_time_year                   2\n",
              "drop_time_month                  3\n",
              "drop_time_date                  31\n",
              "drop_time_day                    7\n",
              "drop_time_hour                  24\n",
              "drop_time_minute                60\n",
              "distance                     16679\n",
              "dtype: int64"
            ]
          },
          "metadata": {
            "tags": []
          },
          "execution_count": 129
        }
      ]
    },
    {
      "cell_type": "code",
      "metadata": {
        "id": "aKvoqbjy47mX",
        "colab_type": "code",
        "colab": {
          "base_uri": "https://localhost:8080/",
          "height": 609
        },
        "outputId": "9401f9f1-b18f-417b-ab08-fd0cadead9c3"
      },
      "source": [
        "for i in ['fare', 'distance']:\n",
        "    print(i)\n",
        "    sns.distplot(train_fare[i],bins='auto',color='green')\n",
        "    plt.title(\"Distribution for Variable \"+i)\n",
        "    plt.ylabel(\"Density\")\n",
        "    plt.show()"
      ],
      "execution_count": 130,
      "outputs": [
        {
          "output_type": "stream",
          "text": [
            "fare\n"
          ],
          "name": "stdout"
        },
        {
          "output_type": "display_data",
          "data": {
            "image/png": "[encoded data removed]",
            "text/plain": [
              "<Figure size 432x288 with 1 Axes>"
            ]
          },
          "metadata": {
            "tags": [],
            "needs_background": "light"
          }
        },
        {
          "output_type": "stream",
          "text": [
            "distance\n"
          ],
          "name": "stdout"
        },
        {
          "output_type": "display_data",
          "data": {
            "image/png": "[encoded data removed]",
            "text/plain": [
              "<Figure size 432x288 with 1 Axes>"
            ]
          },
          "metadata": {
            "tags": [],
            "needs_background": "light"
          }
        }
      ]
    },
    {
      "cell_type": "code",
      "metadata": {
        "id": "JbI8BTcw91p1",
        "colab_type": "code",
        "colab": {}
      },
      "source": [
        "##train test split for further modelling\n",
        "X_train, X_test, y_train, y_test = train_test_split( train_fare.iloc[:, train_fare.columns != 'fare'], \n",
        "                         train_fare.iloc[:, 0], test_size = 0.20, random_state = 1)"
      ],
      "execution_count": 0,
      "outputs": []
    },
    {
      "cell_type": "code",
      "metadata": {
        "id": "53_rhJmY99pR",
        "colab_type": "code",
        "colab": {
          "base_uri": "https://localhost:8080/",
          "height": 526
        },
        "outputId": "33162d3e-d4fd-488e-c9d4-533282c99aab"
      },
      "source": [
        "print(X_train)\n",
        "print(X_test)"
      ],
      "execution_count": 134,
      "outputs": [
        {
          "output_type": "stream",
          "text": [
            "          tripid  additional_fare  ...  drop_time_minute  distance\n",
            "16958  213392029        10.500000  ...                34  3.169928\n",
            "9778   203263582        10.500000  ...                27  5.613063\n",
            "2590   192072595        10.500000  ...                47  2.231001\n",
            "13454  209046430        10.500000  ...                42  3.585605\n",
            "672    189969473        10.500000  ...                13  3.200788\n",
            "...          ...              ...  ...               ...       ...\n",
            "7946   200562124        10.500000  ...                22  4.912987\n",
            "11114  205117295        10.500000  ...                45  3.971453\n",
            "5307   196601260        10.500000  ...                35  1.941642\n",
            "12343  207491522        13.721437  ...                39  7.262595\n",
            "240    189385422        10.500000  ...                 3  1.423198\n",
            "\n",
            "[13563 rows x 20 columns]\n",
            "          tripid  additional_fare  ...  drop_time_minute   distance\n",
            "13636  209407162             10.5  ...                49   1.410608\n",
            "4550   195204158             10.5  ...                12   1.467705\n",
            "6947   198872530             10.5  ...                19   1.331024\n",
            "3305   193352234             10.5  ...                11   1.263375\n",
            "4661   195344258             10.5  ...                49  13.140111\n",
            "...          ...              ...  ...               ...        ...\n",
            "1985   191322309             10.5  ...                52   0.897346\n",
            "12273  207337979             10.5  ...                41   2.915311\n",
            "7755   200157754             10.5  ...                 5   6.139044\n",
            "6970   198906636             10.5  ...                20   2.223632\n",
            "13987  209907290             10.5  ...                 6   0.998820\n",
            "\n",
            "[3391 rows x 20 columns]\n"
          ],
          "name": "stdout"
        }
      ]
    },
    {
      "cell_type": "code",
      "metadata": {
        "id": "aFbUZw0U9_1I",
        "colab_type": "code",
        "colab": {
          "base_uri": "https://localhost:8080/",
          "height": 322
        },
        "outputId": "848e9613-f7d9-4738-b024-1373c0f0f16b"
      },
      "source": [
        ""
      ],
      "execution_count": 133,
      "outputs": [
        {
          "output_type": "error",
          "ename": "ValueError",
          "evalue": "ignored",
          "traceback": [
            "\u001b[0;31m---------------------------------------------------------------------------\u001b[0m",
            "\u001b[0;31mValueError\u001b[0m                                Traceback (most recent call last)",
            "\u001b[0;32m<ipython-input-133-e19564d2edd5>\u001b[0m in \u001b[0;36m<module>\u001b[0;34m()\u001b[0m\n\u001b[0;32m----> 1\u001b[0;31m \u001b[0mfit_LR\u001b[0m \u001b[0;34m=\u001b[0m \u001b[0mLinearRegression\u001b[0m\u001b[0;34m(\u001b[0m\u001b[0;34m)\u001b[0m\u001b[0;34m.\u001b[0m\u001b[0mfit\u001b[0m\u001b[0;34m(\u001b[0m\u001b[0mX_train\u001b[0m \u001b[0;34m,\u001b[0m \u001b[0my_train\u001b[0m\u001b[0;34m)\u001b[0m\u001b[0;34m\u001b[0m\u001b[0;34m\u001b[0m\u001b[0m\n\u001b[0m",
            "\u001b[0;32m/usr/local/lib/python3.6/dist-packages/sklearn/linear_model/_base.py\u001b[0m in \u001b[0;36mfit\u001b[0;34m(self, X, y, sample_weight)\u001b[0m\n\u001b[1;32m    490\u001b[0m         \u001b[0mn_jobs_\u001b[0m \u001b[0;34m=\u001b[0m \u001b[0mself\u001b[0m\u001b[0;34m.\u001b[0m\u001b[0mn_jobs\u001b[0m\u001b[0;34m\u001b[0m\u001b[0;34m\u001b[0m\u001b[0m\n\u001b[1;32m    491\u001b[0m         X, y = check_X_y(X, y, accept_sparse=['csr', 'csc', 'coo'],\n\u001b[0;32m--> 492\u001b[0;31m                          y_numeric=True, multi_output=True)\n\u001b[0m\u001b[1;32m    493\u001b[0m \u001b[0;34m\u001b[0m\u001b[0m\n\u001b[1;32m    494\u001b[0m         \u001b[0;32mif\u001b[0m \u001b[0msample_weight\u001b[0m \u001b[0;32mis\u001b[0m \u001b[0;32mnot\u001b[0m \u001b[0;32mNone\u001b[0m\u001b[0;34m:\u001b[0m\u001b[0;34m\u001b[0m\u001b[0;34m\u001b[0m\u001b[0m\n",
            "\u001b[0;32m/usr/local/lib/python3.6/dist-packages/sklearn/utils/validation.py\u001b[0m in \u001b[0;36mcheck_X_y\u001b[0;34m(X, y, accept_sparse, accept_large_sparse, dtype, order, copy, force_all_finite, ensure_2d, allow_nd, multi_output, ensure_min_samples, ensure_min_features, y_numeric, warn_on_dtype, estimator)\u001b[0m\n\u001b[1;32m    753\u001b[0m                     \u001b[0mensure_min_features\u001b[0m\u001b[0;34m=\u001b[0m\u001b[0mensure_min_features\u001b[0m\u001b[0;34m,\u001b[0m\u001b[0;34m\u001b[0m\u001b[0;34m\u001b[0m\u001b[0m\n\u001b[1;32m    754\u001b[0m                     \u001b[0mwarn_on_dtype\u001b[0m\u001b[0;34m=\u001b[0m\u001b[0mwarn_on_dtype\u001b[0m\u001b[0;34m,\u001b[0m\u001b[0;34m\u001b[0m\u001b[0;34m\u001b[0m\u001b[0m\n\u001b[0;32m--> 755\u001b[0;31m                     estimator=estimator)\n\u001b[0m\u001b[1;32m    756\u001b[0m     \u001b[0;32mif\u001b[0m \u001b[0mmulti_output\u001b[0m\u001b[0;34m:\u001b[0m\u001b[0;34m\u001b[0m\u001b[0;34m\u001b[0m\u001b[0m\n\u001b[1;32m    757\u001b[0m         y = check_array(y, 'csr', force_all_finite=True, ensure_2d=False,\n",
            "\u001b[0;32m/usr/local/lib/python3.6/dist-packages/sklearn/utils/validation.py\u001b[0m in \u001b[0;36mcheck_array\u001b[0;34m(array, accept_sparse, accept_large_sparse, dtype, order, copy, force_all_finite, ensure_2d, allow_nd, ensure_min_samples, ensure_min_features, warn_on_dtype, estimator)\u001b[0m\n\u001b[1;32m    529\u001b[0m                     \u001b[0marray\u001b[0m \u001b[0;34m=\u001b[0m \u001b[0marray\u001b[0m\u001b[0;34m.\u001b[0m\u001b[0mastype\u001b[0m\u001b[0;34m(\u001b[0m\u001b[0mdtype\u001b[0m\u001b[0;34m,\u001b[0m \u001b[0mcasting\u001b[0m\u001b[0;34m=\u001b[0m\u001b[0;34m\"unsafe\"\u001b[0m\u001b[0;34m,\u001b[0m \u001b[0mcopy\u001b[0m\u001b[0;34m=\u001b[0m\u001b[0;32mFalse\u001b[0m\u001b[0;34m)\u001b[0m\u001b[0;34m\u001b[0m\u001b[0;34m\u001b[0m\u001b[0m\n\u001b[1;32m    530\u001b[0m                 \u001b[0;32melse\u001b[0m\u001b[0;34m:\u001b[0m\u001b[0;34m\u001b[0m\u001b[0;34m\u001b[0m\u001b[0m\n\u001b[0;32m--> 531\u001b[0;31m                     \u001b[0marray\u001b[0m \u001b[0;34m=\u001b[0m \u001b[0mnp\u001b[0m\u001b[0;34m.\u001b[0m\u001b[0masarray\u001b[0m\u001b[0;34m(\u001b[0m\u001b[0marray\u001b[0m\u001b[0;34m,\u001b[0m \u001b[0morder\u001b[0m\u001b[0;34m=\u001b[0m\u001b[0morder\u001b[0m\u001b[0;34m,\u001b[0m \u001b[0mdtype\u001b[0m\u001b[0;34m=\u001b[0m\u001b[0mdtype\u001b[0m\u001b[0;34m)\u001b[0m\u001b[0;34m\u001b[0m\u001b[0;34m\u001b[0m\u001b[0m\n\u001b[0m\u001b[1;32m    532\u001b[0m             \u001b[0;32mexcept\u001b[0m \u001b[0mComplexWarning\u001b[0m\u001b[0;34m:\u001b[0m\u001b[0;34m\u001b[0m\u001b[0;34m\u001b[0m\u001b[0m\n\u001b[1;32m    533\u001b[0m                 raise ValueError(\"Complex data not supported\\n\"\n",
            "\u001b[0;32m/usr/local/lib/python3.6/dist-packages/numpy/core/_asarray.py\u001b[0m in \u001b[0;36masarray\u001b[0;34m(a, dtype, order)\u001b[0m\n\u001b[1;32m     83\u001b[0m \u001b[0;34m\u001b[0m\u001b[0m\n\u001b[1;32m     84\u001b[0m     \"\"\"\n\u001b[0;32m---> 85\u001b[0;31m     \u001b[0;32mreturn\u001b[0m \u001b[0marray\u001b[0m\u001b[0;34m(\u001b[0m\u001b[0ma\u001b[0m\u001b[0;34m,\u001b[0m \u001b[0mdtype\u001b[0m\u001b[0;34m,\u001b[0m \u001b[0mcopy\u001b[0m\u001b[0;34m=\u001b[0m\u001b[0;32mFalse\u001b[0m\u001b[0;34m,\u001b[0m \u001b[0morder\u001b[0m\u001b[0;34m=\u001b[0m\u001b[0morder\u001b[0m\u001b[0;34m)\u001b[0m\u001b[0;34m\u001b[0m\u001b[0;34m\u001b[0m\u001b[0m\n\u001b[0m\u001b[1;32m     86\u001b[0m \u001b[0;34m\u001b[0m\u001b[0m\n\u001b[1;32m     87\u001b[0m \u001b[0;34m\u001b[0m\u001b[0m\n",
            "\u001b[0;31mValueError\u001b[0m: could not convert string to float: 'correct'"
          ]
        }
      ]
    },
    {
      "cell_type": "code",
      "metadata": {
        "id": "vnR4ocd0-CUU",
        "colab_type": "code",
        "colab": {}
      },
      "source": [
        "def f(row):\n",
        "    if row['label'] == \"correct\":\n",
        "        val = 1\n",
        "    else:\n",
        "        val = 0\n",
        "    return val"
      ],
      "execution_count": 0,
      "outputs": []
    },
    {
      "cell_type": "code",
      "metadata": {
        "id": "RADT-2FdCZlO",
        "colab_type": "code",
        "colab": {}
      },
      "source": [
        "train_fare['label_info'] =train_fare.apply(f,axis=1)"
      ],
      "execution_count": 0,
      "outputs": []
    },
    {
      "cell_type": "code",
      "metadata": {
        "id": "2_l2fXY2C7Nt",
        "colab_type": "code",
        "colab": {
          "base_uri": "https://localhost:8080/",
          "height": 544
        },
        "outputId": "773831cb-4c9d-4a3e-d115-6bcffcec37ab"
      },
      "source": [
        "train_fare.info()"
      ],
      "execution_count": 148,
      "outputs": [
        {
          "output_type": "stream",
          "text": [
            "<class 'pandas.core.frame.DataFrame'>\n",
            "Int64Index: 16954 entries, 0 to 17175\n",
            "Data columns (total 22 columns):\n",
            " #   Column                     Non-Null Count  Dtype  \n",
            "---  ------                     --------------  -----  \n",
            " 0   tripid                     16954 non-null  int64  \n",
            " 1   additional_fare            16954 non-null  float64\n",
            " 2   duration                   16954 non-null  float64\n",
            " 3   meter_waiting              16954 non-null  float64\n",
            " 4   meter_waiting_fare         16954 non-null  float64\n",
            " 5   meter_waiting_till_pickup  16954 non-null  float64\n",
            " 6   fare                       16954 non-null  float64\n",
            " 7   label                      16954 non-null  object \n",
            " 8   pickup_time_year           16954 non-null  int64  \n",
            " 9   pickup_time_month          16954 non-null  int64  \n",
            " 10  pickup_time_date           16954 non-null  int64  \n",
            " 11  pickup_time_day            16954 non-null  int64  \n",
            " 12  pickup_time_hour           16954 non-null  int64  \n",
            " 13  pickup_time_minute         16954 non-null  int64  \n",
            " 14  drop_time_year             16954 non-null  int64  \n",
            " 15  drop_time_month            16954 non-null  int64  \n",
            " 16  drop_time_date             16954 non-null  int64  \n",
            " 17  drop_time_day              16954 non-null  int64  \n",
            " 18  drop_time_hour             16954 non-null  int64  \n",
            " 19  drop_time_minute           16954 non-null  int64  \n",
            " 20  distance                   16954 non-null  float64\n",
            " 21  label_info                 16954 non-null  int64  \n",
            "dtypes: float64(7), int64(14), object(1)\n",
            "memory usage: 3.0+ MB\n"
          ],
          "name": "stdout"
        }
      ]
    },
    {
      "cell_type": "code",
      "metadata": {
        "id": "osE5WIviDTK0",
        "colab_type": "code",
        "colab": {
          "base_uri": "https://localhost:8080/",
          "height": 320
        },
        "outputId": "7f23924d-de4e-4e96-f52c-3da25c20d586"
      },
      "source": [
        "train_fare.describe()"
      ],
      "execution_count": 149,
      "outputs": [
        {
          "output_type": "execute_result",
          "data": {
            "text/html": [
              "<div>\n",
              "<style scoped>\n",
              "    .dataframe tbody tr th:only-of-type {\n",
              "        vertical-align: middle;\n",
              "    }\n",
              "\n",
              "    .dataframe tbody tr th {\n",
              "        vertical-align: top;\n",
              "    }\n",
              "\n",
              "    .dataframe thead th {\n",
              "        text-align: right;\n",
              "    }\n",
              "</style>\n",
              "<table border=\"1\" class=\"dataframe\">\n",
              "  <thead>\n",
              "    <tr style=\"text-align: right;\">\n",
              "      <th></th>\n",
              "      <th>tripid</th>\n",
              "      <th>additional_fare</th>\n",
              "      <th>duration</th>\n",
              "      <th>meter_waiting</th>\n",
              "      <th>meter_waiting_fare</th>\n",
              "      <th>meter_waiting_till_pickup</th>\n",
              "      <th>fare</th>\n",
              "      <th>pickup_time_year</th>\n",
              "      <th>pickup_time_month</th>\n",
              "      <th>pickup_time_date</th>\n",
              "      <th>pickup_time_day</th>\n",
              "      <th>pickup_time_hour</th>\n",
              "      <th>pickup_time_minute</th>\n",
              "      <th>drop_time_year</th>\n",
              "      <th>drop_time_month</th>\n",
              "      <th>drop_time_date</th>\n",
              "      <th>drop_time_day</th>\n",
              "      <th>drop_time_hour</th>\n",
              "      <th>drop_time_minute</th>\n",
              "      <th>distance</th>\n",
              "      <th>label_info</th>\n",
              "    </tr>\n",
              "  </thead>\n",
              "  <tbody>\n",
              "    <tr>\n",
              "      <th>count</th>\n",
              "      <td>1.695400e+04</td>\n",
              "      <td>16954.000000</td>\n",
              "      <td>16954.000000</td>\n",
              "      <td>16954.000000</td>\n",
              "      <td>16954.000000</td>\n",
              "      <td>16954.000000</td>\n",
              "      <td>16954.000000</td>\n",
              "      <td>16954.000000</td>\n",
              "      <td>16954.000000</td>\n",
              "      <td>16954.000000</td>\n",
              "      <td>16954.00000</td>\n",
              "      <td>16954.000000</td>\n",
              "      <td>16954.000000</td>\n",
              "      <td>16954.000000</td>\n",
              "      <td>16954.000000</td>\n",
              "      <td>16954.000000</td>\n",
              "      <td>16954.000000</td>\n",
              "      <td>16954.000000</td>\n",
              "      <td>16954.000000</td>\n",
              "      <td>16954.000000</td>\n",
              "      <td>16954.0</td>\n",
              "    </tr>\n",
              "    <tr>\n",
              "      <th>mean</th>\n",
              "      <td>2.014745e+08</td>\n",
              "      <td>10.340004</td>\n",
              "      <td>1034.663648</td>\n",
              "      <td>215.499145</td>\n",
              "      <td>8.233884</td>\n",
              "      <td>67.004126</td>\n",
              "      <td>209.495856</td>\n",
              "      <td>2019.339979</td>\n",
              "      <td>7.948626</td>\n",
              "      <td>15.858912</td>\n",
              "      <td>2.91996</td>\n",
              "      <td>13.804707</td>\n",
              "      <td>29.488203</td>\n",
              "      <td>2019.340097</td>\n",
              "      <td>7.947446</td>\n",
              "      <td>15.859856</td>\n",
              "      <td>2.921906</td>\n",
              "      <td>14.083756</td>\n",
              "      <td>29.411761</td>\n",
              "      <td>4.853114</td>\n",
              "      <td>0.0</td>\n",
              "    </tr>\n",
              "    <tr>\n",
              "      <th>std</th>\n",
              "      <td>7.452131e+06</td>\n",
              "      <td>1.696526</td>\n",
              "      <td>553.113146</td>\n",
              "      <td>218.995511</td>\n",
              "      <td>11.939556</td>\n",
              "      <td>42.748469</td>\n",
              "      <td>91.019585</td>\n",
              "      <td>0.473716</td>\n",
              "      <td>5.003687</td>\n",
              "      <td>8.846244</td>\n",
              "      <td>1.94064</td>\n",
              "      <td>4.819152</td>\n",
              "      <td>17.286705</td>\n",
              "      <td>0.473755</td>\n",
              "      <td>5.004146</td>\n",
              "      <td>8.846346</td>\n",
              "      <td>1.941311</td>\n",
              "      <td>4.881568</td>\n",
              "      <td>17.380147</td>\n",
              "      <td>43.291948</td>\n",
              "      <td>0.0</td>\n",
              "    </tr>\n",
              "    <tr>\n",
              "      <th>min</th>\n",
              "      <td>1.891236e+08</td>\n",
              "      <td>5.000000</td>\n",
              "      <td>22.000000</td>\n",
              "      <td>0.000000</td>\n",
              "      <td>0.000000</td>\n",
              "      <td>0.000000</td>\n",
              "      <td>50.480000</td>\n",
              "      <td>2019.000000</td>\n",
              "      <td>1.000000</td>\n",
              "      <td>1.000000</td>\n",
              "      <td>0.00000</td>\n",
              "      <td>0.000000</td>\n",
              "      <td>0.000000</td>\n",
              "      <td>2019.000000</td>\n",
              "      <td>1.000000</td>\n",
              "      <td>1.000000</td>\n",
              "      <td>0.000000</td>\n",
              "      <td>0.000000</td>\n",
              "      <td>0.000000</td>\n",
              "      <td>0.000000</td>\n",
              "      <td>0.0</td>\n",
              "    </tr>\n",
              "    <tr>\n",
              "      <th>25%</th>\n",
              "      <td>1.947418e+08</td>\n",
              "      <td>10.500000</td>\n",
              "      <td>548.000000</td>\n",
              "      <td>33.000000</td>\n",
              "      <td>0.000000</td>\n",
              "      <td>26.000000</td>\n",
              "      <td>125.642500</td>\n",
              "      <td>2019.000000</td>\n",
              "      <td>1.000000</td>\n",
              "      <td>8.000000</td>\n",
              "      <td>1.00000</td>\n",
              "      <td>10.000000</td>\n",
              "      <td>15.000000</td>\n",
              "      <td>2019.000000</td>\n",
              "      <td>1.000000</td>\n",
              "      <td>8.000000</td>\n",
              "      <td>1.000000</td>\n",
              "      <td>11.000000</td>\n",
              "      <td>14.000000</td>\n",
              "      <td>1.485711</td>\n",
              "      <td>0.0</td>\n",
              "    </tr>\n",
              "    <tr>\n",
              "      <th>50%</th>\n",
              "      <td>2.013980e+08</td>\n",
              "      <td>10.500000</td>\n",
              "      <td>1009.000000</td>\n",
              "      <td>123.000000</td>\n",
              "      <td>0.116600</td>\n",
              "      <td>73.000000</td>\n",
              "      <td>211.235000</td>\n",
              "      <td>2019.000000</td>\n",
              "      <td>11.000000</td>\n",
              "      <td>16.000000</td>\n",
              "      <td>3.00000</td>\n",
              "      <td>14.000000</td>\n",
              "      <td>29.000000</td>\n",
              "      <td>2019.000000</td>\n",
              "      <td>11.000000</td>\n",
              "      <td>16.000000</td>\n",
              "      <td>3.000000</td>\n",
              "      <td>14.000000</td>\n",
              "      <td>29.000000</td>\n",
              "      <td>3.215441</td>\n",
              "      <td>0.0</td>\n",
              "    </tr>\n",
              "    <tr>\n",
              "      <th>75%</th>\n",
              "      <td>2.083328e+08</td>\n",
              "      <td>10.500000</td>\n",
              "      <td>1702.836987</td>\n",
              "      <td>351.000000</td>\n",
              "      <td>14.341800</td>\n",
              "      <td>112.489510</td>\n",
              "      <td>312.657884</td>\n",
              "      <td>2020.000000</td>\n",
              "      <td>12.000000</td>\n",
              "      <td>23.000000</td>\n",
              "      <td>5.00000</td>\n",
              "      <td>18.000000</td>\n",
              "      <td>45.000000</td>\n",
              "      <td>2020.000000</td>\n",
              "      <td>12.000000</td>\n",
              "      <td>23.000000</td>\n",
              "      <td>5.000000</td>\n",
              "      <td>18.000000</td>\n",
              "      <td>44.000000</td>\n",
              "      <td>6.146864</td>\n",
              "      <td>0.0</td>\n",
              "    </tr>\n",
              "    <tr>\n",
              "      <th>max</th>\n",
              "      <td>2.138173e+08</td>\n",
              "      <td>13.721437</td>\n",
              "      <td>1702.836987</td>\n",
              "      <td>628.875000</td>\n",
              "      <td>32.045122</td>\n",
              "      <td>112.489510</td>\n",
              "      <td>312.657884</td>\n",
              "      <td>2020.000000</td>\n",
              "      <td>12.000000</td>\n",
              "      <td>31.000000</td>\n",
              "      <td>6.00000</td>\n",
              "      <td>23.000000</td>\n",
              "      <td>59.000000</td>\n",
              "      <td>2020.000000</td>\n",
              "      <td>12.000000</td>\n",
              "      <td>31.000000</td>\n",
              "      <td>6.000000</td>\n",
              "      <td>23.000000</td>\n",
              "      <td>59.000000</td>\n",
              "      <td>5609.521440</td>\n",
              "      <td>0.0</td>\n",
              "    </tr>\n",
              "  </tbody>\n",
              "</table>\n",
              "</div>"
            ],
            "text/plain": [
              "             tripid  additional_fare  ...      distance  label_info\n",
              "count  1.695400e+04     16954.000000  ...  16954.000000     16954.0\n",
              "mean   2.014745e+08        10.340004  ...      4.853114         0.0\n",
              "std    7.452131e+06         1.696526  ...     43.291948         0.0\n",
              "min    1.891236e+08         5.000000  ...      0.000000         0.0\n",
              "25%    1.947418e+08        10.500000  ...      1.485711         0.0\n",
              "50%    2.013980e+08        10.500000  ...      3.215441         0.0\n",
              "75%    2.083328e+08        10.500000  ...      6.146864         0.0\n",
              "max    2.138173e+08        13.721437  ...   5609.521440         0.0\n",
              "\n",
              "[8 rows x 21 columns]"
            ]
          },
          "metadata": {
            "tags": []
          },
          "execution_count": 149
        }
      ]
    },
    {
      "cell_type": "code",
      "metadata": {
        "id": "2SXkYv4CDcHd",
        "colab_type": "code",
        "colab": {
          "base_uri": "https://localhost:8080/",
          "height": 544
        },
        "outputId": "3309f941-522a-4ab4-8fff-73d8d2877cee"
      },
      "source": [
        "train_fare.info()"
      ],
      "execution_count": 151,
      "outputs": [
        {
          "output_type": "stream",
          "text": [
            "<class 'pandas.core.frame.DataFrame'>\n",
            "Int64Index: 16954 entries, 0 to 17175\n",
            "Data columns (total 22 columns):\n",
            " #   Column                     Non-Null Count  Dtype  \n",
            "---  ------                     --------------  -----  \n",
            " 0   tripid                     16954 non-null  int64  \n",
            " 1   additional_fare            16954 non-null  float64\n",
            " 2   duration                   16954 non-null  float64\n",
            " 3   meter_waiting              16954 non-null  float64\n",
            " 4   meter_waiting_fare         16954 non-null  float64\n",
            " 5   meter_waiting_till_pickup  16954 non-null  float64\n",
            " 6   fare                       16954 non-null  float64\n",
            " 7   label                      16954 non-null  object \n",
            " 8   pickup_time_year           16954 non-null  int64  \n",
            " 9   pickup_time_month          16954 non-null  int64  \n",
            " 10  pickup_time_date           16954 non-null  int64  \n",
            " 11  pickup_time_day            16954 non-null  int64  \n",
            " 12  pickup_time_hour           16954 non-null  int64  \n",
            " 13  pickup_time_minute         16954 non-null  int64  \n",
            " 14  drop_time_year             16954 non-null  int64  \n",
            " 15  drop_time_month            16954 non-null  int64  \n",
            " 16  drop_time_date             16954 non-null  int64  \n",
            " 17  drop_time_day              16954 non-null  int64  \n",
            " 18  drop_time_hour             16954 non-null  int64  \n",
            " 19  drop_time_minute           16954 non-null  int64  \n",
            " 20  distance                   16954 non-null  float64\n",
            " 21  label_info                 16954 non-null  int64  \n",
            "dtypes: float64(7), int64(14), object(1)\n",
            "memory usage: 3.0+ MB\n"
          ],
          "name": "stdout"
        }
      ]
    },
    {
      "cell_type": "code",
      "metadata": {
        "id": "HGK9X_ExDlhG",
        "colab_type": "code",
        "colab": {}
      },
      "source": [
        "train_fare=train_fare.drop(columns=\"label\")"
      ],
      "execution_count": 0,
      "outputs": []
    },
    {
      "cell_type": "code",
      "metadata": {
        "id": "W__M2p33EPDh",
        "colab_type": "code",
        "colab": {
          "base_uri": "https://localhost:8080/",
          "height": 526
        },
        "outputId": "89299410-4317-4fee-b1be-430db1b3850b"
      },
      "source": [
        "train_fare.info()"
      ],
      "execution_count": 153,
      "outputs": [
        {
          "output_type": "stream",
          "text": [
            "<class 'pandas.core.frame.DataFrame'>\n",
            "Int64Index: 16954 entries, 0 to 17175\n",
            "Data columns (total 21 columns):\n",
            " #   Column                     Non-Null Count  Dtype  \n",
            "---  ------                     --------------  -----  \n",
            " 0   tripid                     16954 non-null  int64  \n",
            " 1   additional_fare            16954 non-null  float64\n",
            " 2   duration                   16954 non-null  float64\n",
            " 3   meter_waiting              16954 non-null  float64\n",
            " 4   meter_waiting_fare         16954 non-null  float64\n",
            " 5   meter_waiting_till_pickup  16954 non-null  float64\n",
            " 6   fare                       16954 non-null  float64\n",
            " 7   pickup_time_year           16954 non-null  int64  \n",
            " 8   pickup_time_month          16954 non-null  int64  \n",
            " 9   pickup_time_date           16954 non-null  int64  \n",
            " 10  pickup_time_day            16954 non-null  int64  \n",
            " 11  pickup_time_hour           16954 non-null  int64  \n",
            " 12  pickup_time_minute         16954 non-null  int64  \n",
            " 13  drop_time_year             16954 non-null  int64  \n",
            " 14  drop_time_month            16954 non-null  int64  \n",
            " 15  drop_time_date             16954 non-null  int64  \n",
            " 16  drop_time_day              16954 non-null  int64  \n",
            " 17  drop_time_hour             16954 non-null  int64  \n",
            " 18  drop_time_minute           16954 non-null  int64  \n",
            " 19  distance                   16954 non-null  float64\n",
            " 20  label_info                 16954 non-null  int64  \n",
            "dtypes: float64(7), int64(14)\n",
            "memory usage: 2.8 MB\n"
          ],
          "name": "stdout"
        }
      ]
    },
    {
      "cell_type": "code",
      "metadata": {
        "id": "3287djc5ERFf",
        "colab_type": "code",
        "colab": {}
      },
      "source": [
        "X_train, X_test, y_train, y_test = train_test_split( train_fare.iloc[:, train_fare.columns != 'fare'], \n",
        "                         train_fare.iloc[:, 0], test_size = 0.20, random_state = 1)"
      ],
      "execution_count": 0,
      "outputs": []
    },
    {
      "cell_type": "code",
      "metadata": {
        "id": "d2wzXsQNEh0x",
        "colab_type": "code",
        "colab": {
          "base_uri": "https://localhost:8080/",
          "height": 53
        },
        "outputId": "bb51a5b0-bebe-42ce-eb53-211fa3139db4"
      },
      "source": [
        "\n",
        "\n",
        "print(X_train.shape)\n",
        "print(X_test.shape)\n",
        "\n"
      ],
      "execution_count": 163,
      "outputs": [
        {
          "output_type": "stream",
          "text": [
            "(13563, 20)\n",
            "(3391, 20)\n"
          ],
          "name": "stdout"
        }
      ]
    },
    {
      "cell_type": "code",
      "metadata": {
        "id": "KfT2gqNZEmP3",
        "colab_type": "code",
        "colab": {}
      },
      "source": [
        "fit_LR = LinearRegression().fit(X_train , y_train)"
      ],
      "execution_count": 0,
      "outputs": []
    },
    {
      "cell_type": "code",
      "metadata": {
        "id": "8zA3uvR4EoLF",
        "colab_type": "code",
        "colab": {}
      },
      "source": [
        "pred_train_LR = fit_LR.predict(X_train)"
      ],
      "execution_count": 0,
      "outputs": []
    },
    {
      "cell_type": "code",
      "metadata": {
        "id": "938VnwzQEpuk",
        "colab_type": "code",
        "colab": {}
      },
      "source": [
        "pred_test_LR = fit_LR.predict(X_test)"
      ],
      "execution_count": 0,
      "outputs": []
    },
    {
      "cell_type": "code",
      "metadata": {
        "id": "dezziAoQEr16",
        "colab_type": "code",
        "colab": {}
      },
      "source": [
        "\n",
        "\n",
        "##calculating RMSE for test data\n",
        "RMSE_test_LR = np.sqrt(mean_squared_error(y_test, pred_test_LR))\n",
        "\n",
        "##calculating RMSE for train data\n",
        "RMSE_train_LR= np.sqrt(mean_squared_error(y_train, pred_train_LR))\n",
        "\n"
      ],
      "execution_count": 0,
      "outputs": []
    },
    {
      "cell_type": "code",
      "metadata": {
        "id": "ZcK3hgnvEtyz",
        "colab_type": "code",
        "colab": {
          "base_uri": "https://localhost:8080/",
          "height": 53
        },
        "outputId": "004c553d-efa8-4f9c-b586-db558cf41583"
      },
      "source": [
        "\n",
        "\n",
        "print(\"Root Mean Squared Error For Training data = \"+str(RMSE_train_LR))\n",
        "print(\"Root Mean Squared Error For Test data = \"+str(RMSE_test_LR))\n",
        "\n"
      ],
      "execution_count": 168,
      "outputs": [
        {
          "output_type": "stream",
          "text": [
            "Root Mean Squared Error For Training data = 0.0\n",
            "Root Mean Squared Error For Test data = 0.0\n"
          ],
          "name": "stdout"
        }
      ]
    },
    {
      "cell_type": "code",
      "metadata": {
        "id": "oH3M3mpMEwih",
        "colab_type": "code",
        "colab": {
          "base_uri": "https://localhost:8080/",
          "height": 35
        },
        "outputId": "fa3b92cd-45f6-47e5-8bd8-81b2571bb769"
      },
      "source": [
        "from sklearn.metrics import r2_score\n",
        "r2_score(y_train, pred_train_LR)"
      ],
      "execution_count": 169,
      "outputs": [
        {
          "output_type": "execute_result",
          "data": {
            "text/plain": [
              "1.0"
            ]
          },
          "metadata": {
            "tags": []
          },
          "execution_count": 169
        }
      ]
    },
    {
      "cell_type": "code",
      "metadata": {
        "id": "HWqJVrPtFFjR",
        "colab_type": "code",
        "colab": {
          "base_uri": "https://localhost:8080/",
          "height": 35
        },
        "outputId": "32910643-28b1-400f-bb45-b03678846ecc"
      },
      "source": [
        "r2_score(y_test, pred_test_LR)"
      ],
      "execution_count": 170,
      "outputs": [
        {
          "output_type": "execute_result",
          "data": {
            "text/plain": [
              "1.0"
            ]
          },
          "metadata": {
            "tags": []
          },
          "execution_count": 170
        }
      ]
    },
    {
      "cell_type": "code",
      "metadata": {
        "id": "tK2D5p9qFH5q",
        "colab_type": "code",
        "colab": {}
      },
      "source": [
        ""
      ],
      "execution_count": 0,
      "outputs": []
    }
  ]
}